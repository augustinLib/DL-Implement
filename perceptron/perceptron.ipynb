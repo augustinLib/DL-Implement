{
 "cells": [
  {
   "cell_type": "code",
   "execution_count": 1,
   "metadata": {},
   "outputs": [],
   "source": [
    "import numpy as np\n",
    "from gate import *"
   ]
  },
  {
   "cell_type": "code",
   "execution_count": 2,
   "metadata": {},
   "outputs": [],
   "source": [
    "test_input = np.array([(0, 0), (1, 0), (0, 1), (1, 1)])"
   ]
  },
  {
   "cell_type": "code",
   "execution_count": 3,
   "metadata": {},
   "outputs": [
    {
     "name": "stdout",
     "output_type": "stream",
     "text": [
      "AND gate result\n",
      "x1 | x2  |  y\n",
      "0  |  0  |  0\n",
      "1  |  0  |  0\n",
      "0  |  1  |  0\n",
      "1  |  1  |  1\n"
     ]
    }
   ],
   "source": [
    "print_result(AND, test_input)"
   ]
  },
  {
   "cell_type": "code",
   "execution_count": 4,
   "metadata": {},
   "outputs": [
    {
     "name": "stdout",
     "output_type": "stream",
     "text": [
      "OR gate result\n",
      "x1 | x2  |  y\n",
      "0  |  0  |  0\n",
      "1  |  0  |  1\n",
      "0  |  1  |  1\n",
      "1  |  1  |  1\n"
     ]
    }
   ],
   "source": [
    "print_result(OR, test_input)"
   ]
  },
  {
   "cell_type": "code",
   "execution_count": 5,
   "metadata": {},
   "outputs": [
    {
     "name": "stdout",
     "output_type": "stream",
     "text": [
      "NAND gate result\n",
      "x1 | x2  |  y\n",
      "0  |  0  |  1\n",
      "1  |  0  |  1\n",
      "0  |  1  |  1\n",
      "1  |  1  |  0\n"
     ]
    }
   ],
   "source": [
    "print_result(NAND, test_input)"
   ]
  }
 ],
 "metadata": {
  "kernelspec": {
   "display_name": "base",
   "language": "python",
   "name": "python3"
  },
  "language_info": {
   "codemirror_mode": {
    "name": "ipython",
    "version": 3
   },
   "file_extension": ".py",
   "mimetype": "text/x-python",
   "name": "python",
   "nbconvert_exporter": "python",
   "pygments_lexer": "ipython3",
   "version": "3.9.10"
  },
  "orig_nbformat": 4,
  "vscode": {
   "interpreter": {
    "hash": "c6e4e9f98eb68ad3b7c296f83d20e6de614cb42e90992a65aa266555a3137d0d"
   }
  }
 },
 "nbformat": 4,
 "nbformat_minor": 2
}
