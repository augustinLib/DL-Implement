{
 "cells": [
  {
   "cell_type": "code",
   "execution_count": 1,
   "metadata": {},
   "outputs": [
    {
     "name": "stdout",
     "output_type": "stream",
     "text": [
      "\u001b[92m------------------------------------------------------------\u001b[0m\n",
      "                       \u001b[92mGPU Mode (cupy)\u001b[0m\n",
      "\u001b[92m------------------------------------------------------------\u001b[0m\n",
      "\n"
     ]
    }
   ],
   "source": [
    "import os\n",
    "import sys\n",
    "sys.path.append(os.pardir)\n",
    "from dataset import ptb\n",
    "from neuralflow import config\n",
    "config.GPU = True\n",
    "# import numpy as np\n",
    "import matplotlib.pyplot as plt\n",
    "from neuralflow.model import *\n",
    "from neuralflow.function_class import *\n",
    "from neuralflow.function import *\n",
    "from neuralflow.data import *\n",
    "from neuralflow.optimizer import *\n",
    "from neuralflow.trainer import *\n",
    "from neuralflow.gpu import *\n",
    "from neuralflow.utils import *"
   ]
  },
  {
   "cell_type": "code",
   "execution_count": 2,
   "metadata": {},
   "outputs": [
    {
     "name": "stdout",
     "output_type": "stream",
     "text": [
      "말뭉치 크기: 1000, 어휘 수: 418\n"
     ]
    }
   ],
   "source": [
    "# 하이퍼파라미터 설정\n",
    "batch_size = 10\n",
    "wordvec_size = 100\n",
    "hidden_size = 100 # RNN의 은닉 상태 벡터의 원소 수\n",
    "time_size = 5     # Truncated BPTT가 한 번에 펼치는 시간 크기\n",
    "lr = 0.1\n",
    "max_epoch = 100\n",
    "\n",
    "# 학습 데이터 읽기(전체 중 1000개만)\n",
    "corpus, word_to_id, id_to_word = ptb.load_data('train')\n",
    "corpus_size = 1000\n",
    "corpus = corpus[:corpus_size]\n",
    "vocab_size = int(max(corpus) + 1)\n",
    "if config.GPU:\n",
    "    corpus = to_gpu(corpus)\n",
    "\n",
    "\n",
    "xs = corpus[:-1]  # 입력\n",
    "ts = corpus[1:]   # 출력(정답 레이블)\n",
    "data_size = len(xs)\n",
    "print('말뭉치 크기: %d, 어휘 수: %d' % (corpus_size, vocab_size))\n",
    "\n",
    "# 학습 시 사용하는 변수\n",
    "max_iters = data_size // (batch_size * time_size)\n",
    "time_idx = 0\n",
    "total_loss = 0\n",
    "loss_count = 0\n",
    "ppl_list = []"
   ]
  },
  {
   "cell_type": "code",
   "execution_count": 3,
   "metadata": {},
   "outputs": [],
   "source": [
    "model = Model(\n",
    "    EmbeddingLayer(vocab_size, 100),\n",
    "    RNNLayer(100, 100),\n",
    "    DenseLayer(100, vocab_size)\n",
    ")"
   ]
  },
  {
   "cell_type": "code",
   "execution_count": 4,
   "metadata": {},
   "outputs": [
    {
     "name": "stdout",
     "output_type": "stream",
     "text": [
      "0. EmbeddingLayer1 : EmbeddingLayer (418, 100) \n",
      "1. RNNLayer1 : RNNLayer (100, 100) \n",
      "2. DenseLayer1 : DenseLayer (100, 418) \n",
      "\n"
     ]
    }
   ],
   "source": [
    "print(model)"
   ]
  },
  {
   "cell_type": "code",
   "execution_count": 5,
   "metadata": {},
   "outputs": [],
   "source": [
    "critic = CrossEntropyLoss()\n",
    "optim = SGDOptimizer(lr = 0.1)\n",
    "# optim = Adam()"
   ]
  },
  {
   "cell_type": "code",
   "execution_count": 6,
   "metadata": {},
   "outputs": [],
   "source": [
    "batch_size = 10\n",
    "wordvec_size = 100\n",
    "hidden_size = 100 # RNN의 은닉 상태 벡터의 원소 수\n",
    "time_size = 5     # Truncated BPTT가 한 번에 펼치는 시간 크기\n",
    "max_epoch = 100\n",
    "max_iters = data_size // (batch_size * time_size)\n",
    "time_idx = 0\n",
    "total_loss = 0\n",
    "loss_count = 0\n",
    "ppl_list = []\n"
   ]
  },
  {
   "cell_type": "code",
   "execution_count": 8,
   "metadata": {},
   "outputs": [
    {
     "ename": "TypeError",
     "evalue": "Implicit conversion to a NumPy array is not allowed. Please use `.get()` to construct a NumPy array explicitly.",
     "output_type": "error",
     "traceback": [
      "\u001b[0;31m---------------------------------------------------------------------------\u001b[0m",
      "\u001b[0;31mTypeError\u001b[0m                                 Traceback (most recent call last)",
      "Cell \u001b[0;32mIn[8], line 3\u001b[0m\n\u001b[1;32m      1\u001b[0m jump \u001b[39m=\u001b[39m (\u001b[39mlen\u001b[39m(corpus) \u001b[39m-\u001b[39m \u001b[39m1\u001b[39m) \u001b[39m/\u001b[39m\u001b[39m/\u001b[39m batch_size\n\u001b[1;32m      2\u001b[0m offsets \u001b[39m=\u001b[39m [i \u001b[39m*\u001b[39m jump \u001b[39mfor\u001b[39;00m i \u001b[39min\u001b[39;00m \u001b[39mrange\u001b[39m(batch_size)]\n\u001b[0;32m----> 3\u001b[0m dataloader \u001b[39m=\u001b[39m LanguageModelingDataLoader(corpus, batch_size\u001b[39m=\u001b[39;49mbatch_size, time_size\u001b[39m=\u001b[39;49mtime_size)\n\u001b[1;32m      4\u001b[0m \u001b[39mfor\u001b[39;00m epoch \u001b[39min\u001b[39;00m \u001b[39mrange\u001b[39m(max_epoch):\n\u001b[1;32m      5\u001b[0m     \u001b[39mfor\u001b[39;00m batch_x, batch_t \u001b[39min\u001b[39;00m dataloader:\n\u001b[1;32m      6\u001b[0m         \u001b[39m# 기울기를 구하여 매개변수 갱신\u001b[39;00m\n",
      "File \u001b[0;32m~/project/DL-Implement/RNN/../simpleDL/data.py:76\u001b[0m, in \u001b[0;36mLanguageModelingDataLoader.__init__\u001b[0;34m(self, corpus, batch_size, time_size)\u001b[0m\n\u001b[1;32m     65\u001b[0m \u001b[39m\u001b[39m\u001b[39m\"\"\"\u001b[39;00m\n\u001b[1;32m     66\u001b[0m \u001b[39mBuild dataloader that can iterate with batch size in dataset (for Language Modeling)\u001b[39;00m\n\u001b[1;32m     67\u001b[0m \n\u001b[0;32m   (...)\u001b[0m\n\u001b[1;32m     73\u001b[0m \n\u001b[1;32m     74\u001b[0m \u001b[39m\"\"\"\u001b[39;00m\n\u001b[1;32m     75\u001b[0m \u001b[39mself\u001b[39m\u001b[39m.\u001b[39mcurrent_iter \u001b[39m=\u001b[39m \u001b[39m0\u001b[39m\n\u001b[0;32m---> 76\u001b[0m \u001b[39mself\u001b[39m\u001b[39m.\u001b[39mcorpus \u001b[39m=\u001b[39m np\u001b[39m.\u001b[39;49marray(corpus)\n\u001b[1;32m     77\u001b[0m \u001b[39mself\u001b[39m\u001b[39m.\u001b[39mx_temp \u001b[39m=\u001b[39m np\u001b[39m.\u001b[39marray(corpus[:\u001b[39m-\u001b[39m\u001b[39m1\u001b[39m])\n\u001b[1;32m     78\u001b[0m \u001b[39mself\u001b[39m\u001b[39m.\u001b[39my_temp \u001b[39m=\u001b[39m np\u001b[39m.\u001b[39marray(corpus[\u001b[39m1\u001b[39m:])\n",
      "File \u001b[0;32mcupy/_core/core.pyx:1473\u001b[0m, in \u001b[0;36mcupy._core.core._ndarray_base.__array__\u001b[0;34m()\u001b[0m\n",
      "\u001b[0;31mTypeError\u001b[0m: Implicit conversion to a NumPy array is not allowed. Please use `.get()` to construct a NumPy array explicitly."
     ]
    }
   ],
   "source": [
    "jump = (len(corpus) - 1) // batch_size\n",
    "offsets = [i * jump for i in range(batch_size)]\n",
    "dataloader = LanguageModelingDataLoader(corpus, batch_size=batch_size, time_size=time_size)\n",
    "for epoch in range(max_epoch):\n",
    "    for batch_x, batch_t in dataloader:\n",
    "        # 기울기를 구하여 매개변수 갱신\n",
    "        pred = model(batch_x)\n",
    "        loss = critic(pred, batch_t)\n",
    "        model.backward(critic)\n",
    "        optim.update(model)\n",
    "        total_loss += loss\n",
    "        loss_count += 1\n",
    "    # 에폭마다 퍼플렉서티 평가\n",
    "    ppl = np.exp(total_loss / loss_count)\n",
    "    print('| 에폭 %d | 퍼플렉서티 %.2f'\n",
    "          % (epoch+1, ppl))\n",
    "    ppl_list.append(float(ppl))\n",
    "    total_loss, loss_count = 0, 0\n",
    "\n",
    "# 그래프 그리기\n",
    "x = np.arange(len(ppl_list))\n",
    "plt.plot(x, ppl_list, label='train')\n",
    "plt.xlabel('epochs')\n",
    "plt.ylabel('perplexity')\n",
    "plt.show()"
   ]
  },
  {
   "cell_type": "code",
   "execution_count": 6,
   "metadata": {},
   "outputs": [],
   "source": [
    "model = Model(\n",
    "    EmbeddingLayer(vocab_size, 100, initialize=\"Xavier\"),\n",
    "    RNNLayer(100, 100, initialize=\"Xavier\"),\n",
    "    DenseLayer(100, vocab_size, initialize=\"Xavier\")\n",
    ")"
   ]
  },
  {
   "cell_type": "code",
   "execution_count": 7,
   "metadata": {},
   "outputs": [],
   "source": [
    "batch_size = 10\n",
    "wordvec_size = 100\n",
    "hidden_size = 100 # RNN의 은닉 상태 벡터의 원소 수\n",
    "time_size = 5     # Truncated BPTT가 한 번에 펼치는 시간 크기\n",
    "max_epoch = 100\n",
    "max_iters = data_size // (batch_size * time_size)\n",
    "time_idx = 0\n",
    "total_loss = 0\n",
    "loss_count = 0\n",
    "ppl_list = []\n",
    "\n",
    "critic = CrossEntropyLoss()\n",
    "optim = SGDOptimizer(lr = 0.1)\n",
    "# optim = Adam()"
   ]
  },
  {
   "cell_type": "code",
   "execution_count": 8,
   "metadata": {},
   "outputs": [
    {
     "name": "stdout",
     "output_type": "stream",
     "text": [
      "| 에폭 1 | 퍼플렉서티 378.33\n",
      "| 에폭 2 | 퍼플렉서티 250.43\n",
      "| 에폭 3 | 퍼플렉서티 221.44\n",
      "| 에폭 4 | 퍼플렉서티 214.91\n",
      "| 에폭 5 | 퍼플렉서티 204.64\n"
     ]
    },
    {
     "name": "stderr",
     "output_type": "stream",
     "text": [
      "/home/augustin/project/DL-Implement/RNN/../simpleDL/model.py:652: RuntimeWarning: overflow encountered in cast\n",
      "  dx = np.empty((batch_size, n_timestep, input_dim)).astype(np.float32)\n"
     ]
    },
    {
     "name": "stdout",
     "output_type": "stream",
     "text": [
      "| 에폭 6 | 퍼플렉서티 200.78\n",
      "| 에폭 7 | 퍼플렉서티 197.12\n",
      "| 에폭 8 | 퍼플렉서티 194.51\n",
      "| 에폭 9 | 퍼플렉서티 188.40\n",
      "| 에폭 10 | 퍼플렉서티 188.89\n",
      "| 에폭 11 | 퍼플렉서티 184.68\n",
      "| 에폭 12 | 퍼플렉서티 187.65\n",
      "| 에폭 13 | 퍼플렉서티 184.22\n",
      "| 에폭 14 | 퍼플렉서티 184.98\n",
      "| 에폭 15 | 퍼플렉서티 182.43\n",
      "| 에폭 16 | 퍼플렉서티 178.10\n",
      "| 에폭 17 | 퍼플렉서티 174.07\n",
      "| 에폭 18 | 퍼플렉서티 170.55\n",
      "| 에폭 19 | 퍼플렉서티 169.37\n",
      "| 에폭 20 | 퍼플렉서티 169.19\n",
      "| 에폭 21 | 퍼플렉서티 167.96\n",
      "| 에폭 22 | 퍼플렉서티 160.53\n",
      "| 에폭 23 | 퍼플렉서티 156.22\n",
      "| 에폭 24 | 퍼플렉서티 158.22\n",
      "| 에폭 25 | 퍼플렉서티 150.10\n",
      "| 에폭 26 | 퍼플렉서티 149.96\n",
      "| 에폭 27 | 퍼플렉서티 143.02\n",
      "| 에폭 28 | 퍼플렉서티 139.82\n",
      "| 에폭 29 | 퍼플렉서티 135.71\n",
      "| 에폭 30 | 퍼플렉서티 129.09\n",
      "| 에폭 31 | 퍼플렉서티 129.40\n",
      "| 에폭 32 | 퍼플렉서티 122.76\n",
      "| 에폭 33 | 퍼플렉서티 120.85\n",
      "| 에폭 34 | 퍼플렉서티 112.87\n",
      "| 에폭 35 | 퍼플렉서티 112.83\n",
      "| 에폭 36 | 퍼플렉서티 105.62\n",
      "| 에폭 37 | 퍼플렉서티 100.94\n",
      "| 에폭 38 | 퍼플렉서티 97.71\n",
      "| 에폭 39 | 퍼플렉서티 93.57\n",
      "| 에폭 40 | 퍼플렉서티 89.47\n",
      "| 에폭 41 | 퍼플렉서티 87.35\n",
      "| 에폭 42 | 퍼플렉서티 82.49\n",
      "| 에폭 43 | 퍼플렉서티 77.99\n",
      "| 에폭 44 | 퍼플렉서티 74.46\n",
      "| 에폭 45 | 퍼플렉서티 70.78\n",
      "| 에폭 46 | 퍼플렉서티 69.57\n",
      "| 에폭 47 | 퍼플렉서티 64.02\n",
      "| 에폭 48 | 퍼플렉서티 60.67\n",
      "| 에폭 49 | 퍼플렉서티 58.92\n",
      "| 에폭 50 | 퍼플렉서티 55.75\n",
      "| 에폭 51 | 퍼플렉서티 52.12\n",
      "| 에폭 52 | 퍼플렉서티 49.82\n",
      "| 에폭 53 | 퍼플렉서티 46.92\n",
      "| 에폭 54 | 퍼플렉서티 45.73\n",
      "| 에폭 55 | 퍼플렉서티 42.25\n",
      "| 에폭 56 | 퍼플렉서티 39.38\n",
      "| 에폭 57 | 퍼플렉서티 37.88\n",
      "| 에폭 58 | 퍼플렉서티 36.13\n",
      "| 에폭 59 | 퍼플렉서티 32.88\n",
      "| 에폭 60 | 퍼플렉서티 31.05\n",
      "| 에폭 61 | 퍼플렉서티 29.41\n",
      "| 에폭 62 | 퍼플렉서티 29.17\n",
      "| 에폭 63 | 퍼플렉서티 27.33\n",
      "| 에폭 64 | 퍼플렉서티 24.81\n",
      "| 에폭 65 | 퍼플렉서티 23.35\n",
      "| 에폭 66 | 퍼플렉서티 22.14\n",
      "| 에폭 67 | 퍼플렉서티 21.66\n",
      "| 에폭 68 | 퍼플렉서티 19.86\n",
      "| 에폭 69 | 퍼플렉서티 18.83\n",
      "| 에폭 70 | 퍼플렉서티 17.81\n",
      "| 에폭 71 | 퍼플렉서티 16.72\n",
      "| 에폭 72 | 퍼플렉서티 16.18\n",
      "| 에폭 73 | 퍼플렉서티 15.51\n",
      "| 에폭 74 | 퍼플렉서티 14.86\n",
      "| 에폭 75 | 퍼플렉서티 14.07\n",
      "| 에폭 76 | 퍼플렉서티 12.50\n",
      "| 에폭 77 | 퍼플렉서티 12.15\n",
      "| 에폭 78 | 퍼플렉서티 12.00\n",
      "| 에폭 79 | 퍼플렉서티 10.68\n",
      "| 에폭 80 | 퍼플렉서티 10.13\n",
      "| 에폭 81 | 퍼플렉서티 9.56\n",
      "| 에폭 82 | 퍼플렉서티 9.52\n",
      "| 에폭 83 | 퍼플렉서티 8.78\n",
      "| 에폭 84 | 퍼플렉서티 8.58\n",
      "| 에폭 85 | 퍼플렉서티 8.32\n",
      "| 에폭 86 | 퍼플렉서티 7.76\n",
      "| 에폭 87 | 퍼플렉서티 7.46\n",
      "| 에폭 88 | 퍼플렉서티 7.24\n",
      "| 에폭 89 | 퍼플렉서티 6.71\n",
      "| 에폭 90 | 퍼플렉서티 6.18\n",
      "| 에폭 91 | 퍼플렉서티 6.39\n",
      "| 에폭 92 | 퍼플렉서티 5.63\n",
      "| 에폭 93 | 퍼플렉서티 5.62\n",
      "| 에폭 94 | 퍼플렉서티 5.34\n",
      "| 에폭 95 | 퍼플렉서티 5.23\n",
      "| 에폭 96 | 퍼플렉서티 4.98\n",
      "| 에폭 97 | 퍼플렉서티 4.89\n",
      "| 에폭 98 | 퍼플렉서티 4.77\n",
      "| 에폭 99 | 퍼플렉서티 4.50\n",
      "| 에폭 100 | 퍼플렉서티 4.31\n"
     ]
    },
    {
     "data": {
      "image/png": "[encoded data removed]",
      "text/plain": [
       "<Figure size 640x480 with 1 Axes>"
      ]
     },
     "metadata": {},
     "output_type": "display_data"
    }
   ],
   "source": [
    "dataloader = LanguageModelingDataLoader(corpus, batch_size=batch_size, time_size=time_size)\n",
    "for epoch in range(max_epoch):\n",
    "    for batch_x, batch_t in dataloader:\n",
    "        # 기울기를 구하여 매개변수 갱신\n",
    "        pred = model(batch_x)\n",
    "        \n",
    "        loss = critic(pred, batch_t)\n",
    "        model.backward(critic)\n",
    "        optim.update(model)\n",
    "        total_loss += loss\n",
    "        loss_count += 1\n",
    "    # 에폭마다 퍼플렉서티 평가\n",
    "    ppl = np.exp(total_loss / loss_count)\n",
    "    print('| 에폭 %d | 퍼플렉서티 %.2f'\n",
    "          % (epoch+1, ppl))\n",
    "    ppl_list.append(float(ppl))\n",
    "    total_loss, loss_count = 0, 0\n",
    "\n",
    "# 그래프 그리기\n",
    "x = np.arange(len(ppl_list))\n",
    "plt.plot(x, ppl_list, label='train')\n",
    "plt.xlabel('epochs')\n",
    "plt.ylabel('perplexity')\n",
    "plt.show()"
   ]
  },
  {
   "cell_type": "code",
   "execution_count": 1,
   "metadata": {},
   "outputs": [
    {
     "name": "stdout",
     "output_type": "stream",
     "text": [
      "\u001b[92m------------------------------------------------------------\u001b[0m\n",
      "                       \u001b[92mGPU Mode (cupy)\u001b[0m\n",
      "\u001b[92m------------------------------------------------------------\u001b[0m\n",
      "\n"
     ]
    }
   ],
   "source": [
    "import os\n",
    "import sys\n",
    "sys.path.append(os.pardir)\n",
    "from dataset import ptb\n",
    "from neuralflow import config\n",
    "config.GPU = True\n",
    "# import numpy as np\n",
    "import matplotlib.pyplot as plt\n",
    "from neuralflow.model import *\n",
    "from neuralflow.function_class import *\n",
    "from neuralflow.function import *\n",
    "from neuralflow.data import *\n",
    "from neuralflow.optimizer import *\n",
    "from neuralflow.trainer import *\n",
    "from neuralflow.gpu import *\n",
    "from neuralflow.utils import *\n"
   ]
  },
  {
   "cell_type": "code",
   "execution_count": 2,
   "metadata": {},
   "outputs": [
    {
     "name": "stdout",
     "output_type": "stream",
     "text": [
      "말뭉치 크기: 1000, 어휘 수: 418\n"
     ]
    }
   ],
   "source": [
    "# 하이퍼파라미터 설정\n",
    "lr = 0.1\n",
    "max_epoch = 100\n",
    "batch_size = 10\n",
    "time_size = 5   \n",
    "\n",
    "# 학습 데이터 읽기(전체 중 1000개만)\n",
    "corpus, word_to_id, id_to_word = ptb.load_data('train')\n",
    "corpus_size = 1000\n",
    "corpus = corpus[:corpus_size]\n",
    "if config.GPU:\n",
    "    corpus = to_gpu(corpus)\n",
    "vocab_size = int(max(corpus) + 1)\n",
    "\n",
    "print('말뭉치 크기: %d, 어휘 수: %d' % (corpus_size, vocab_size))"
   ]
  },
  {
   "cell_type": "code",
   "execution_count": 3,
   "metadata": {},
   "outputs": [],
   "source": [
    "vocab_size = int(max(corpus) + 1)\n",
    "model = Model(\n",
    "    EmbeddingLayer(vocab_size, 100),\n",
    "    RNNLayer(100, 100),\n",
    "    DenseLayer(100, vocab_size)\n",
    ")\n",
    "\n",
    "critic = CrossEntropyLoss()\n",
    "optim = SGDOptimizer(lr = 0.1)\n",
    "# optim = Adam()\n",
    "\n",
    "dataloader = LanguageModelingDataLoader(corpus, batch_size=batch_size, time_size=time_size)"
   ]
  },
  {
   "cell_type": "code",
   "execution_count": 4,
   "metadata": {},
   "outputs": [],
   "source": [
    "trainer = LanguageModelTrainer(model,\n",
    "                               critic=critic,\n",
    "                               optimizer=optim,\n",
    "                               n_epochs=max_epoch,\n",
    "                               init_lr=lr)"
   ]
  },
  {
   "cell_type": "code",
   "execution_count": 5,
   "metadata": {},
   "outputs": [
    {
     "name": "stdout",
     "output_type": "stream",
     "text": [
      "epoch 1\n"
     ]
    },
    {
     "data": {
      "application/vnd.jupyter.widget-view+json": {
       "model_id": "6674d17fdb794b0783cd298f5ddff8c2",
       "version_major": 2,
       "version_minor": 0
      },
      "text/plain": [
       "  0%|          | 0/20 [00:00<?, ?it/s]"
      ]
     },
     "metadata": {},
     "output_type": "display_data"
    },
    {
     "name": "stdout",
     "output_type": "stream",
     "text": [
      "train loss : 6.123850953375445    train perplexity : 456.61973434958304\n",
      "epoch 1 -- train loss : 6.167834275664032    train perplexity : 487.2374442954539\n",
      "--------------------------------\n",
      "epoch 2\n"
     ]
    },
    {
     "data": {
      "application/vnd.jupyter.widget-view+json": {
       "model_id": "10139f93674f4ec4b1e268c07f2dcb6e",
       "version_major": 2,
       "version_minor": 0
      },
      "text/plain": [
       "  0%|          | 0/20 [00:00<?, ?it/s]"
      ]
     },
     "metadata": {},
     "output_type": "display_data"
    },
    {
     "name": "stdout",
     "output_type": "stream",
     "text": [
      "train loss : 5.497915700284966    train perplexity : 244.18245207867847\n",
      "epoch 2 -- train loss : 5.624139123466281    train perplexity : 280.78796267511507\n",
      "--------------------------------\n",
      "epoch 3\n"
     ]
    },
    {
     "data": {
      "application/vnd.jupyter.widget-view+json": {
       "model_id": "a283105947fa44aeb42cc7fe01b1fa08",
       "version_major": 2,
       "version_minor": 0
      },
      "text/plain": [
       "  0%|          | 0/20 [00:00<?, ?it/s]"
      ]
     },
     "metadata": {},
     "output_type": "display_data"
    },
    {
     "name": "stdout",
     "output_type": "stream",
     "text": [
      "train loss : 5.526461376956041    train perplexity : 251.253245563629665\n",
      "epoch 3 -- train loss : 5.478483750984161    train perplexity : 246.96684796008014\n",
      "--------------------------------\n",
      "epoch 4\n"
     ]
    },
    {
     "data": {
      "application/vnd.jupyter.widget-view+json": {
       "model_id": "fd018a4cee364d00962d3f5018ce6306",
       "version_major": 2,
       "version_minor": 0
      },
      "text/plain": [
       "  0%|          | 0/20 [00:00<?, ?it/s]"
      ]
     },
     "metadata": {},
     "output_type": "display_data"
    },
    {
     "name": "stdout",
     "output_type": "stream",
     "text": [
      "train loss : 5.453039035789418    train perplexity : 233.466602240575558\n",
      "epoch 4 -- train loss : 5.385161072467757    train perplexity : 222.36251355081768\n",
      "--------------------------------\n",
      "epoch 5\n"
     ]
    },
    {
     "data": {
      "application/vnd.jupyter.widget-view+json": {
       "model_id": "35f26fc6ea6b4039909ff7d1446e2198",
       "version_major": 2,
       "version_minor": 0
      },
      "text/plain": [
       "  0%|          | 0/20 [00:00<?, ?it/s]"
      ]
     },
     "metadata": {},
     "output_type": "display_data"
    },
    {
     "name": "stdout",
     "output_type": "stream",
     "text": [
      "train loss : 5.098956581366538    train perplexity : 163.850853041648523\n",
      "epoch 5 -- train loss : 5.3152941175929245    train perplexity : 209.34435259529613\n",
      "--------------------------------\n",
      "epoch 6\n"
     ]
    },
    {
     "data": {
      "application/vnd.jupyter.widget-view+json": {
       "model_id": "2ceb75957ee44212809b53b2127ccc4c",
       "version_major": 2,
       "version_minor": 0
      },
      "text/plain": [
       "  0%|          | 0/20 [00:00<?, ?it/s]"
      ]
     },
     "metadata": {},
     "output_type": "display_data"
    },
    {
     "name": "stdout",
     "output_type": "stream",
     "text": [
      "train loss : 5.420443407237431    train perplexity : 225.979301148062268\n",
      "epoch 6 -- train loss : 5.258492900451385    train perplexity : 195.88094452203973\n",
      "--------------------------------\n",
      "epoch 7\n"
     ]
    },
    {
     "data": {
      "application/vnd.jupyter.widget-view+json": {
       "model_id": "29dd506b7bd044999e597466786b3f51",
       "version_major": 2,
       "version_minor": 0
      },
      "text/plain": [
       "  0%|          | 0/20 [00:00<?, ?it/s]"
      ]
     },
     "metadata": {},
     "output_type": "display_data"
    },
    {
     "name": "stdout",
     "output_type": "stream",
     "text": [
      "train loss : 5.330501368289929    train perplexity : 206.54150156089767\n",
      "epoch 7 -- train loss : 5.206699809410184    train perplexity : 186.53994905247401\n",
      "--------------------------------\n",
      "epoch 8\n"
     ]
    },
    {
     "data": {
      "application/vnd.jupyter.widget-view+json": {
       "model_id": "302d2e9627fe47cd9bdd27b1d777c66e",
       "version_major": 2,
       "version_minor": 0
      },
      "text/plain": [
       "  0%|          | 0/20 [00:00<?, ?it/s]"
      ]
     },
     "metadata": {},
     "output_type": "display_data"
    },
    {
     "name": "stdout",
     "output_type": "stream",
     "text": [
      "train loss : 5.5648067898051226    train perplexity : 261.07475653188373\n",
      "epoch 8 -- train loss : 5.178649013208986    train perplexity : 182.1265825861506\n",
      "--------------------------------\n",
      "epoch 9\n"
     ]
    },
    {
     "data": {
      "application/vnd.jupyter.widget-view+json": {
       "model_id": "2e4d62081e8c426f9188cca267503a76",
       "version_major": 2,
       "version_minor": 0
      },
      "text/plain": [
       "  0%|          | 0/20 [00:00<?, ?it/s]"
      ]
     },
     "metadata": {},
     "output_type": "display_data"
    },
    {
     "name": "stdout",
     "output_type": "stream",
     "text": [
      "train loss : 5.092000965906346    train perplexity : 162.715123941443233\n",
      "epoch 9 -- train loss : 5.114380314969899    train perplexity : 169.6517676146616\n",
      "--------------------------------\n",
      "epoch 10\n"
     ]
    },
    {
     "data": {
      "application/vnd.jupyter.widget-view+json": {
       "model_id": "173c9073d4bb417191e43bc6094c7978",
       "version_major": 2,
       "version_minor": 0
      },
      "text/plain": [
       "  0%|          | 0/20 [00:00<?, ?it/s]"
      ]
     },
     "metadata": {},
     "output_type": "display_data"
    },
    {
     "name": "stdout",
     "output_type": "stream",
     "text": [
      "train loss : 5.053356240726425    train perplexity : 156.546993165826682\n",
      "epoch 10 -- train loss : 5.126376585546564    train perplexity : 172.69140445600382\n",
      "--------------------------------\n",
      "epoch 11\n"
     ]
    },
    {
     "data": {
      "application/vnd.jupyter.widget-view+json": {
       "model_id": "ca1c500c39d34118963ea787438a1698",
       "version_major": 2,
       "version_minor": 0
      },
      "text/plain": [
       "  0%|          | 0/20 [00:00<?, ?it/s]"
      ]
     },
     "metadata": {},
     "output_type": "display_data"
    },
    {
     "name": "stdout",
     "output_type": "stream",
     "text": [
      "train loss : 4.784691353325078    train perplexity : 119.664423357114667\n",
      "epoch 11 -- train loss : 5.048057027466609    train perplexity : 159.71839416025446\n",
      "--------------------------------\n",
      "epoch 12\n"
     ]
    },
    {
     "data": {
      "application/vnd.jupyter.widget-view+json": {
       "model_id": "e501a454c79f4f76b1bd4fa074d7fc76",
       "version_major": 2,
       "version_minor": 0
      },
      "text/plain": [
       "  0%|          | 0/20 [00:00<?, ?it/s]"
      ]
     },
     "metadata": {},
     "output_type": "display_data"
    },
    {
     "name": "stdout",
     "output_type": "stream",
     "text": [
      "train loss : 4.99309915991233    train perplexity : 147.3925093454942316\n",
      "epoch 12 -- train loss : 5.037470999485838    train perplexity : 158.92144173492878\n",
      "--------------------------------\n",
      "epoch 13\n"
     ]
    },
    {
     "data": {
      "application/vnd.jupyter.widget-view+json": {
       "model_id": "ff1691013214435bbe2534b8bbee2dc6",
       "version_major": 2,
       "version_minor": 0
      },
      "text/plain": [
       "  0%|          | 0/20 [00:00<?, ?it/s]"
      ]
     },
     "metadata": {},
     "output_type": "display_data"
    },
    {
     "name": "stdout",
     "output_type": "stream",
     "text": [
      "train loss : 4.590287724879055    train perplexity : 98.5227735373038228\n",
      "epoch 13 -- train loss : 5.006323592457929    train perplexity : 152.04640711262337\n",
      "--------------------------------\n",
      "epoch 14\n"
     ]
    },
    {
     "data": {
      "application/vnd.jupyter.widget-view+json": {
       "model_id": "00a81031c0f04c87ae62a692e7c24460",
       "version_major": 2,
       "version_minor": 0
      },
      "text/plain": [
       "  0%|          | 0/20 [00:00<?, ?it/s]"
      ]
     },
     "metadata": {},
     "output_type": "display_data"
    },
    {
     "name": "stdout",
     "output_type": "stream",
     "text": [
      "train loss : 4.764817541988722    train perplexity : 117.30971123839934\n",
      "epoch 14 -- train loss : 4.967277287163084    train perplexity : 147.1349960733736\n",
      "--------------------------------\n",
      "epoch 15\n"
     ]
    },
    {
     "data": {
      "application/vnd.jupyter.widget-view+json": {
       "model_id": "71511c14e5ae4562a4143926da81095a",
       "version_major": 2,
       "version_minor": 0
      },
      "text/plain": [
       "  0%|          | 0/20 [00:00<?, ?it/s]"
      ]
     },
     "metadata": {},
     "output_type": "display_data"
    },
    {
     "name": "stdout",
     "output_type": "stream",
     "text": [
      "train loss : 4.895762265587329    train perplexity : 133.721899377107343\n",
      "epoch 15 -- train loss : 4.903358354112666    train perplexity : 138.04461449746788\n",
      "--------------------------------\n",
      "epoch 16\n"
     ]
    },
    {
     "data": {
      "application/vnd.jupyter.widget-view+json": {
       "model_id": "9e81bf55870a4446a30ac212d92e0418",
       "version_major": 2,
       "version_minor": 0
      },
      "text/plain": [
       "  0%|          | 0/20 [00:00<?, ?it/s]"
      ]
     },
     "metadata": {},
     "output_type": "display_data"
    },
    {
     "name": "stdout",
     "output_type": "stream",
     "text": [
      "train loss : 5.016554847314498    train perplexity : 150.890566259385372\n",
      "epoch 16 -- train loss : 4.838178822822444    train perplexity : 128.35705903350265\n",
      "--------------------------------\n",
      "epoch 17\n"
     ]
    },
    {
     "data": {
      "application/vnd.jupyter.widget-view+json": {
       "model_id": "17b047b871fc4a6591a4f321bd11b43c",
       "version_major": 2,
       "version_minor": 0
      },
      "text/plain": [
       "  0%|          | 0/20 [00:00<?, ?it/s]"
      ]
     },
     "metadata": {},
     "output_type": "display_data"
    },
    {
     "name": "stdout",
     "output_type": "stream",
     "text": [
      "train loss : 5.04239263392423    train perplexity : 154.8400477239843369\n",
      "epoch 17 -- train loss : 4.8073871021329175    train perplexity : 124.30908986858849\n",
      "--------------------------------\n",
      "epoch 18\n"
     ]
    },
    {
     "data": {
      "application/vnd.jupyter.widget-view+json": {
       "model_id": "7c92544eb83c4a39b5a6faf1ce63c31f",
       "version_major": 2,
       "version_minor": 0
      },
      "text/plain": [
       "  0%|          | 0/20 [00:00<?, ?it/s]"
      ]
     },
     "metadata": {},
     "output_type": "display_data"
    },
    {
     "name": "stdout",
     "output_type": "stream",
     "text": [
      "train loss : 4.72926578854626    train perplexity : 113.212409978572238\n",
      "epoch 18 -- train loss : 4.732205410326188    train perplexity : 115.51070199264716\n",
      "--------------------------------\n",
      "epoch 19\n"
     ]
    },
    {
     "data": {
      "application/vnd.jupyter.widget-view+json": {
       "model_id": "22d9ece75b654ffe83e026ce268fbd43",
       "version_major": 2,
       "version_minor": 0
      },
      "text/plain": [
       "  0%|          | 0/20 [00:00<?, ?it/s]"
      ]
     },
     "metadata": {},
     "output_type": "display_data"
    },
    {
     "name": "stdout",
     "output_type": "stream",
     "text": [
      "train loss : 4.579602937796591    train perplexity : 97.4756826127901196\n",
      "epoch 19 -- train loss : 4.67791028516678    train perplexity : 109.56744654525956\n",
      "--------------------------------\n",
      "epoch 20\n"
     ]
    },
    {
     "data": {
      "application/vnd.jupyter.widget-view+json": {
       "model_id": "3f1402094b224f90a42cfa5802c14843",
       "version_major": 2,
       "version_minor": 0
      },
      "text/plain": [
       "  0%|          | 0/20 [00:00<?, ?it/s]"
      ]
     },
     "metadata": {},
     "output_type": "display_data"
    },
    {
     "name": "stdout",
     "output_type": "stream",
     "text": [
      "train loss : 4.481888701064355    train perplexity : 88.4014790699683537\n",
      "epoch 20 -- train loss : 4.662334827734519    train perplexity : 107.81609566334778\n",
      "--------------------------------\n",
      "epoch 21\n"
     ]
    },
    {
     "data": {
      "application/vnd.jupyter.widget-view+json": {
       "model_id": "22db8ac954a341de8a7a9acc7c2d2865",
       "version_major": 2,
       "version_minor": 0
      },
      "text/plain": [
       "  0%|          | 0/20 [00:00<?, ?it/s]"
      ]
     },
     "metadata": {},
     "output_type": "display_data"
    },
    {
     "name": "stdout",
     "output_type": "stream",
     "text": [
      "train loss : 4.925201915592726    train perplexity : 137.717146074868142\n",
      "epoch 21 -- train loss : 4.595449617055581    train perplexity : 100.19313716505623\n",
      "--------------------------------\n",
      "epoch 22\n"
     ]
    },
    {
     "data": {
      "application/vnd.jupyter.widget-view+json": {
       "model_id": "3bfecac8583441c3a167d7d79ae6efa6",
       "version_major": 2,
       "version_minor": 0
      },
      "text/plain": [
       "  0%|          | 0/20 [00:00<?, ?it/s]"
      ]
     },
     "metadata": {},
     "output_type": "display_data"
    },
    {
     "name": "stdout",
     "output_type": "stream",
     "text": [
      "train loss : 4.957578422825538    train perplexity : 142.24891176592925\n",
      "epoch 22 -- train loss : 4.568171907410039    train perplexity : 99.20061144606507\n",
      "--------------------------------\n",
      "epoch 23\n"
     ]
    },
    {
     "data": {
      "application/vnd.jupyter.widget-view+json": {
       "model_id": "6f0e63db115949d89c750c848e06bace",
       "version_major": 2,
       "version_minor": 0
      },
      "text/plain": [
       "  0%|          | 0/20 [00:00<?, ?it/s]"
      ]
     },
     "metadata": {},
     "output_type": "display_data"
    },
    {
     "name": "stdout",
     "output_type": "stream",
     "text": [
      "train loss : 4.57279569121333    train perplexity : 96.81439493311602344\n",
      "epoch 23 -- train loss : 4.500257668368859    train perplexity : 92.47402919275874\n",
      "--------------------------------\n",
      "epoch 24\n"
     ]
    },
    {
     "data": {
      "application/vnd.jupyter.widget-view+json": {
       "model_id": "789e75e010714f24bdfca104cbbdbdf9",
       "version_major": 2,
       "version_minor": 0
      },
      "text/plain": [
       "  0%|          | 0/20 [00:00<?, ?it/s]"
      ]
     },
     "metadata": {},
     "output_type": "display_data"
    },
    {
     "name": "stdout",
     "output_type": "stream",
     "text": [
      "train loss : 4.446462954495835    train perplexity : 85.3246126000434266\n",
      "epoch 24 -- train loss : 4.386060024353184    train perplexity : 82.5184848377229\n",
      "--------------------------------\n",
      "epoch 25\n"
     ]
    },
    {
     "data": {
      "application/vnd.jupyter.widget-view+json": {
       "model_id": "75f4fd671f7a4c5db0d848980dbd5d74",
       "version_major": 2,
       "version_minor": 0
      },
      "text/plain": [
       "  0%|          | 0/20 [00:00<?, ?it/s]"
      ]
     },
     "metadata": {},
     "output_type": "display_data"
    },
    {
     "name": "stdout",
     "output_type": "stream",
     "text": [
      "train loss : 4.117615497086492    train perplexity : 61.4126289413121852\n",
      "epoch 25 -- train loss : 4.342348082314263    train perplexity : 78.89522953807958\n",
      "--------------------------------\n",
      "epoch 26\n"
     ]
    },
    {
     "data": {
      "application/vnd.jupyter.widget-view+json": {
       "model_id": "1f4cf4afd93d4fffb8bb60fc9566d71e",
       "version_major": 2,
       "version_minor": 0
      },
      "text/plain": [
       "  0%|          | 0/20 [00:00<?, ?it/s]"
      ]
     },
     "metadata": {},
     "output_type": "display_data"
    },
    {
     "name": "stdout",
     "output_type": "stream",
     "text": [
      "train loss : 4.600303552736789    train perplexity : 99.5145189621328386\n",
      "epoch 26 -- train loss : 4.3270186123952765    train perplexity : 78.50553123401463\n",
      "--------------------------------\n",
      "epoch 27\n"
     ]
    },
    {
     "data": {
      "application/vnd.jupyter.widget-view+json": {
       "model_id": "b49915c070a94361a7f4713020100d7c",
       "version_major": 2,
       "version_minor": 0
      },
      "text/plain": [
       "  0%|          | 0/20 [00:00<?, ?it/s]"
      ]
     },
     "metadata": {},
     "output_type": "display_data"
    },
    {
     "name": "stdout",
     "output_type": "stream",
     "text": [
      "train loss : 4.21213214132581    train perplexity : 67.50030668339125964\n",
      "epoch 27 -- train loss : 4.251086608486622    train perplexity : 72.03195715491142\n",
      "--------------------------------\n",
      "epoch 28\n"
     ]
    },
    {
     "data": {
      "application/vnd.jupyter.widget-view+json": {
       "model_id": "13cf3fd507f64ae28ca8c3db1465ef4b",
       "version_major": 2,
       "version_minor": 0
      },
      "text/plain": [
       "  0%|          | 0/20 [00:00<?, ?it/s]"
      ]
     },
     "metadata": {},
     "output_type": "display_data"
    },
    {
     "name": "stdout",
     "output_type": "stream",
     "text": [
      "train loss : 4.38828569312462    train perplexity : 80.5022949830715566\n",
      "epoch 28 -- train loss : 4.143527380452011    train perplexity : 64.40254008227542\n",
      "--------------------------------\n",
      "epoch 29\n"
     ]
    },
    {
     "data": {
      "application/vnd.jupyter.widget-view+json": {
       "model_id": "540cb3edd4aa4b79b82902ea875ac6bd",
       "version_major": 2,
       "version_minor": 0
      },
      "text/plain": [
       "  0%|          | 0/20 [00:00<?, ?it/s]"
      ]
     },
     "metadata": {},
     "output_type": "display_data"
    },
    {
     "name": "stdout",
     "output_type": "stream",
     "text": [
      "train loss : 4.409161689957433    train perplexity : 82.2005250866706235\n",
      "epoch 29 -- train loss : 4.145185472138282    train perplexity : 64.27140238807561\n",
      "--------------------------------\n",
      "epoch 30\n"
     ]
    },
    {
     "data": {
      "application/vnd.jupyter.widget-view+json": {
       "model_id": "2971fa7236214da08d12ce7740eab606",
       "version_major": 2,
       "version_minor": 0
      },
      "text/plain": [
       "  0%|          | 0/20 [00:00<?, ?it/s]"
      ]
     },
     "metadata": {},
     "output_type": "display_data"
    },
    {
     "name": "stdout",
     "output_type": "stream",
     "text": [
      "train loss : 3.8183307958532033    train perplexity : 45.528149084064875\n",
      "epoch 30 -- train loss : 3.9957153971826815    train perplexity : 55.73450648828549\n",
      "--------------------------------\n",
      "epoch 31\n"
     ]
    },
    {
     "data": {
      "application/vnd.jupyter.widget-view+json": {
       "model_id": "cb7899e510c14bc48cc6d8be4fe63596",
       "version_major": 2,
       "version_minor": 0
      },
      "text/plain": [
       "  0%|          | 0/20 [00:00<?, ?it/s]"
      ]
     },
     "metadata": {},
     "output_type": "display_data"
    },
    {
     "name": "stdout",
     "output_type": "stream",
     "text": [
      "train loss : 3.8798902628506613    train perplexity : 48.418901427581674\n",
      "epoch 31 -- train loss : 3.9545638127270712    train perplexity : 53.46077463817588\n",
      "--------------------------------\n",
      "epoch 32\n"
     ]
    },
    {
     "data": {
      "application/vnd.jupyter.widget-view+json": {
       "model_id": "f744c29e2cdd4d5784361c5da79d5a15",
       "version_major": 2,
       "version_minor": 0
      },
      "text/plain": [
       "  0%|          | 0/20 [00:00<?, ?it/s]"
      ]
     },
     "metadata": {},
     "output_type": "display_data"
    },
    {
     "name": "stdout",
     "output_type": "stream",
     "text": [
      "train loss : 3.49537846844248    train perplexity : 32.96276095733582454\n",
      "epoch 32 -- train loss : 3.8948768440642696    train perplexity : 50.43315359187568\n",
      "--------------------------------\n",
      "epoch 33\n"
     ]
    },
    {
     "data": {
      "application/vnd.jupyter.widget-view+json": {
       "model_id": "cf898561b61a418781725feaa8014f75",
       "version_major": 2,
       "version_minor": 0
      },
      "text/plain": [
       "  0%|          | 0/20 [00:00<?, ?it/s]"
      ]
     },
     "metadata": {},
     "output_type": "display_data"
    },
    {
     "name": "stdout",
     "output_type": "stream",
     "text": [
      "train loss : 3.3810524784082334    train perplexity : 29.401699488587965\n",
      "epoch 33 -- train loss : 3.861827112940702    train perplexity : 49.609282754763775\n",
      "--------------------------------\n",
      "epoch 34\n"
     ]
    },
    {
     "data": {
      "application/vnd.jupyter.widget-view+json": {
       "model_id": "bdaba28059854ab8b242da6249d01a8a",
       "version_major": 2,
       "version_minor": 0
      },
      "text/plain": [
       "  0%|          | 0/20 [00:00<?, ?it/s]"
      ]
     },
     "metadata": {},
     "output_type": "display_data"
    },
    {
     "name": "stdout",
     "output_type": "stream",
     "text": [
      "train loss : 3.4441070712137787    train perplexity : 31.315308618248697\n",
      "epoch 34 -- train loss : 3.7631730621986406    train perplexity : 44.00971951139797\n",
      "--------------------------------\n",
      "epoch 35\n"
     ]
    },
    {
     "data": {
      "application/vnd.jupyter.widget-view+json": {
       "model_id": "05d25bddeebd4793a920ca2c3c12c188",
       "version_major": 2,
       "version_minor": 0
      },
      "text/plain": [
       "  0%|          | 0/20 [00:00<?, ?it/s]"
      ]
     },
     "metadata": {},
     "output_type": "display_data"
    },
    {
     "name": "stdout",
     "output_type": "stream",
     "text": [
      "train loss : 3.8340136439417596    train perplexity : 46.247788377109142\n",
      "epoch 35 -- train loss : 3.722821524916502    train perplexity : 43.03417847312176\n",
      "--------------------------------\n",
      "epoch 36\n"
     ]
    },
    {
     "data": {
      "application/vnd.jupyter.widget-view+json": {
       "model_id": "5f5752bdb70d4a21908dc2230aad7a18",
       "version_major": 2,
       "version_minor": 0
      },
      "text/plain": [
       "  0%|          | 0/20 [00:00<?, ?it/s]"
      ]
     },
     "metadata": {},
     "output_type": "display_data"
    },
    {
     "name": "stdout",
     "output_type": "stream",
     "text": [
      "train loss : 3.6905581997878563    train perplexity : 40.067206222250924\n",
      "epoch 36 -- train loss : 3.6795055712062186    train perplexity : 41.222448325089374\n",
      "--------------------------------\n",
      "epoch 37\n"
     ]
    },
    {
     "data": {
      "application/vnd.jupyter.widget-view+json": {
       "model_id": "cc3a530efde4497381bba6a63030bc6f",
       "version_major": 2,
       "version_minor": 0
      },
      "text/plain": [
       "  0%|          | 0/20 [00:00<?, ?it/s]"
      ]
     },
     "metadata": {},
     "output_type": "display_data"
    },
    {
     "name": "stdout",
     "output_type": "stream",
     "text": [
      "train loss : 3.59998247450867    train perplexity : 36.59759304725796103\n",
      "epoch 37 -- train loss : 3.5939840926928723    train perplexity : 37.229223510384976\n",
      "--------------------------------\n",
      "epoch 38\n"
     ]
    },
    {
     "data": {
      "application/vnd.jupyter.widget-view+json": {
       "model_id": "a152ba9183a14cb188ae143ad1230872",
       "version_major": 2,
       "version_minor": 0
      },
      "text/plain": [
       "  0%|          | 0/20 [00:00<?, ?it/s]"
      ]
     },
     "metadata": {},
     "output_type": "display_data"
    },
    {
     "name": "stdout",
     "output_type": "stream",
     "text": [
      "train loss : 3.876410205107676    train perplexity : 48.2506937108062966\n",
      "epoch 38 -- train loss : 3.5311392687883782    train perplexity : 35.017708965204925\n",
      "--------------------------------\n",
      "epoch 39\n"
     ]
    },
    {
     "data": {
      "application/vnd.jupyter.widget-view+json": {
       "model_id": "d4074be882104c70b0ede7998efdb28d",
       "version_major": 2,
       "version_minor": 0
      },
      "text/plain": [
       "  0%|          | 0/20 [00:00<?, ?it/s]"
      ]
     },
     "metadata": {},
     "output_type": "display_data"
    },
    {
     "name": "stdout",
     "output_type": "stream",
     "text": [
      "train loss : 3.549686290535787    train perplexity : 34.8023979332988276\n",
      "epoch 39 -- train loss : 3.444716641515706    train perplexity : 31.85891289457916\n",
      "--------------------------------\n",
      "epoch 40\n"
     ]
    },
    {
     "data": {
      "application/vnd.jupyter.widget-view+json": {
       "model_id": "d3b6081f2f3b4b748f166b0608407e3c",
       "version_major": 2,
       "version_minor": 0
      },
      "text/plain": [
       "  0%|          | 0/20 [00:00<?, ?it/s]"
      ]
     },
     "metadata": {},
     "output_type": "display_data"
    },
    {
     "name": "stdout",
     "output_type": "stream",
     "text": [
      "train loss : 3.0573821189554895    train perplexity : 21.271797172761183\n",
      "epoch 40 -- train loss : 3.3566399897939605    train perplexity : 29.16355921319026\n",
      "--------------------------------\n",
      "epoch 41\n"
     ]
    },
    {
     "data": {
      "application/vnd.jupyter.widget-view+json": {
       "model_id": "07c38487b5c34225976891899c5e161c",
       "version_major": 2,
       "version_minor": 0
      },
      "text/plain": [
       "  0%|          | 0/20 [00:00<?, ?it/s]"
      ]
     },
     "metadata": {},
     "output_type": "display_data"
    },
    {
     "name": "stdout",
     "output_type": "stream",
     "text": [
      "train loss : 3.398575530331027    train perplexity : 29.9214474815768398\n",
      "epoch 41 -- train loss : 3.3092630420026814    train perplexity : 27.980279309001492\n",
      "--------------------------------\n",
      "epoch 42\n"
     ]
    },
    {
     "data": {
      "application/vnd.jupyter.widget-view+json": {
       "model_id": "ccddfa875d864a29993864850491e36d",
       "version_major": 2,
       "version_minor": 0
      },
      "text/plain": [
       "  0%|          | 0/20 [00:00<?, ?it/s]"
      ]
     },
     "metadata": {},
     "output_type": "display_data"
    },
    {
     "name": "stdout",
     "output_type": "stream",
     "text": [
      "train loss : 3.58847427596251    train perplexity : 36.17883487787306477\n",
      "epoch 42 -- train loss : 3.2206070814010714    train perplexity : 25.599533628029864\n",
      "--------------------------------\n",
      "epoch 43\n"
     ]
    },
    {
     "data": {
      "application/vnd.jupyter.widget-view+json": {
       "model_id": "c6ae4c94eb27429a814b88e9b18e8ef1",
       "version_major": 2,
       "version_minor": 0
      },
      "text/plain": [
       "  0%|          | 0/20 [00:00<?, ?it/s]"
      ]
     },
     "metadata": {},
     "output_type": "display_data"
    },
    {
     "name": "stdout",
     "output_type": "stream",
     "text": [
      "train loss : 3.429488103762949    train perplexity : 30.8608411571736356\n",
      "epoch 43 -- train loss : 3.2039568974936956    train perplexity : 25.406319873557106\n",
      "--------------------------------\n",
      "epoch 44\n"
     ]
    },
    {
     "data": {
      "application/vnd.jupyter.widget-view+json": {
       "model_id": "44b717babfa34685a2d6374d775c0a33",
       "version_major": 2,
       "version_minor": 0
      },
      "text/plain": [
       "  0%|          | 0/20 [00:00<?, ?it/s]"
      ]
     },
     "metadata": {},
     "output_type": "display_data"
    },
    {
     "name": "stdout",
     "output_type": "stream",
     "text": [
      "train loss : 3.1335503296917318    train perplexity : 22.955334043373483\n",
      "epoch 44 -- train loss : 3.112806151785537    train perplexity : 23.0232238808802\n",
      "--------------------------------\n",
      "epoch 45\n"
     ]
    },
    {
     "data": {
      "application/vnd.jupyter.widget-view+json": {
       "model_id": "0fc6cc9024604d469c5e792fe3b16228",
       "version_major": 2,
       "version_minor": 0
      },
      "text/plain": [
       "  0%|          | 0/20 [00:00<?, ?it/s]"
      ]
     },
     "metadata": {},
     "output_type": "display_data"
    },
    {
     "name": "stdout",
     "output_type": "stream",
     "text": [
      "train loss : 2.543800456085027    train perplexity : 12.7279511888441572\n",
      "epoch 45 -- train loss : 3.0832287531297773    train perplexity : 22.611982117833637\n",
      "--------------------------------\n",
      "epoch 46\n"
     ]
    },
    {
     "data": {
      "application/vnd.jupyter.widget-view+json": {
       "model_id": "1fa1a5d09bec4944823492f46b2debd1",
       "version_major": 2,
       "version_minor": 0
      },
      "text/plain": [
       "  0%|          | 0/20 [00:00<?, ?it/s]"
      ]
     },
     "metadata": {},
     "output_type": "display_data"
    },
    {
     "name": "stdout",
     "output_type": "stream",
     "text": [
      "train loss : 2.894527070504356    train perplexity : 18.0749512420217398\n",
      "epoch 46 -- train loss : 3.0095039680375293    train perplexity : 21.10991191634475\n",
      "--------------------------------\n",
      "epoch 47\n"
     ]
    },
    {
     "data": {
      "application/vnd.jupyter.widget-view+json": {
       "model_id": "c799434ba74f4fc1ab945b6b9b10834e",
       "version_major": 2,
       "version_minor": 0
      },
      "text/plain": [
       "  0%|          | 0/20 [00:00<?, ?it/s]"
      ]
     },
     "metadata": {},
     "output_type": "display_data"
    },
    {
     "name": "stdout",
     "output_type": "stream",
     "text": [
      "train loss : 3.1223677308454096    train perplexity : 22.700063704417186\n",
      "epoch 47 -- train loss : 2.899678709174497    train perplexity : 18.58317054277966\n",
      "--------------------------------\n",
      "epoch 48\n"
     ]
    },
    {
     "data": {
      "application/vnd.jupyter.widget-view+json": {
       "model_id": "e678e816473141eb83c1b68be643ed0a",
       "version_major": 2,
       "version_minor": 0
      },
      "text/plain": [
       "  0%|          | 0/20 [00:00<?, ?it/s]"
      ]
     },
     "metadata": {},
     "output_type": "display_data"
    },
    {
     "name": "stdout",
     "output_type": "stream",
     "text": [
      "train loss : 2.817344912863748    train perplexity : 16.7323657535340156\n",
      "epoch 48 -- train loss : 2.852936479506621    train perplexity : 17.568752528400797\n",
      "--------------------------------\n",
      "epoch 49\n"
     ]
    },
    {
     "data": {
      "application/vnd.jupyter.widget-view+json": {
       "model_id": "2da490d979464dd0bfa83f24fc09eac1",
       "version_major": 2,
       "version_minor": 0
      },
      "text/plain": [
       "  0%|          | 0/20 [00:00<?, ?it/s]"
      ]
     },
     "metadata": {},
     "output_type": "display_data"
    },
    {
     "name": "stdout",
     "output_type": "stream",
     "text": [
      "train loss : 2.974016307078445    train perplexity : 19.5703625507291431\n",
      "epoch 49 -- train loss : 2.758439758105466    train perplexity : 15.979609134778547\n",
      "--------------------------------\n",
      "epoch 50\n"
     ]
    },
    {
     "data": {
      "application/vnd.jupyter.widget-view+json": {
       "model_id": "92c9b8361d3c4d28b8f0495c1cc0df8d",
       "version_major": 2,
       "version_minor": 0
      },
      "text/plain": [
       "  0%|          | 0/20 [00:00<?, ?it/s]"
      ]
     },
     "metadata": {},
     "output_type": "display_data"
    },
    {
     "name": "stdout",
     "output_type": "stream",
     "text": [
      "train loss : 2.6877504987014915    train perplexity : 14.698574241423877\n",
      "epoch 50 -- train loss : 2.730895420994602    train perplexity : 15.618030464929893\n",
      "--------------------------------\n",
      "epoch 51\n"
     ]
    },
    {
     "data": {
      "application/vnd.jupyter.widget-view+json": {
       "model_id": "d8b517d118b34f7498e9aee37188db97",
       "version_major": 2,
       "version_minor": 0
      },
      "text/plain": [
       "  0%|          | 0/20 [00:00<?, ?it/s]"
      ]
     },
     "metadata": {},
     "output_type": "display_data"
    },
    {
     "name": "stdout",
     "output_type": "stream",
     "text": [
      "train loss : 2.468298856283735    train perplexity : 11.8023522672077977\n",
      "epoch 51 -- train loss : 2.6279799599872042    train perplexity : 14.129718208466182\n",
      "--------------------------------\n",
      "epoch 52\n"
     ]
    },
    {
     "data": {
      "application/vnd.jupyter.widget-view+json": {
       "model_id": "bdbbddca4c3b4223b6af2becc2690571",
       "version_major": 2,
       "version_minor": 0
      },
      "text/plain": [
       "  0%|          | 0/20 [00:00<?, ?it/s]"
      ]
     },
     "metadata": {},
     "output_type": "display_data"
    },
    {
     "name": "stdout",
     "output_type": "stream",
     "text": [
      "train loss : 2.1955466331040197    train perplexity : 8.9849111645626133\n",
      "epoch 52 -- train loss : 2.6049936284035873    train perplexity : 13.821989650868256\n",
      "--------------------------------\n",
      "epoch 53\n"
     ]
    },
    {
     "data": {
      "application/vnd.jupyter.widget-view+json": {
       "model_id": "15d63764e7674d298f81e6b791715fa2",
       "version_major": 2,
       "version_minor": 0
      },
      "text/plain": [
       "  0%|          | 0/20 [00:00<?, ?it/s]"
      ]
     },
     "metadata": {},
     "output_type": "display_data"
    },
    {
     "name": "stdout",
     "output_type": "stream",
     "text": [
      "train loss : 2.4817353646842264    train perplexity : 11.962004857312973\n",
      "epoch 53 -- train loss : 2.5273596775911895    train perplexity : 12.654303667030899\n",
      "--------------------------------\n",
      "epoch 54\n"
     ]
    },
    {
     "data": {
      "application/vnd.jupyter.widget-view+json": {
       "model_id": "111b77ce13f247fb995862ea34b4ac91",
       "version_major": 2,
       "version_minor": 0
      },
      "text/plain": [
       "  0%|          | 0/20 [00:00<?, ?it/s]"
      ]
     },
     "metadata": {},
     "output_type": "display_data"
    },
    {
     "name": "stdout",
     "output_type": "stream",
     "text": [
      "train loss : 2.1863808599345798    train perplexity : 8.9029337738834521\n",
      "epoch 54 -- train loss : 2.4407164735816624    train perplexity : 11.827135785441886\n",
      "--------------------------------\n",
      "epoch 55\n"
     ]
    },
    {
     "data": {
      "application/vnd.jupyter.widget-view+json": {
       "model_id": "bf87a6c5561240ab95d4d648a0045185",
       "version_major": 2,
       "version_minor": 0
      },
      "text/plain": [
       "  0%|          | 0/20 [00:00<?, ?it/s]"
      ]
     },
     "metadata": {},
     "output_type": "display_data"
    },
    {
     "name": "stdout",
     "output_type": "stream",
     "text": [
      "train loss : 2.5115249661529075    train perplexity : 12.323708977333624\n",
      "epoch 55 -- train loss : 2.3841414879270784    train perplexity : 11.191745980048063\n",
      "--------------------------------\n",
      "epoch 56\n"
     ]
    },
    {
     "data": {
      "application/vnd.jupyter.widget-view+json": {
       "model_id": "e0ac3e84322c46bdb8a93a84af13e340",
       "version_major": 2,
       "version_minor": 0
      },
      "text/plain": [
       "  0%|          | 0/20 [00:00<?, ?it/s]"
      ]
     },
     "metadata": {},
     "output_type": "display_data"
    },
    {
     "name": "stdout",
     "output_type": "stream",
     "text": [
      "train loss : 2.4229598947775663    train perplexity : 11.279195186134928\n",
      "epoch 56 -- train loss : 2.323149630187801    train perplexity : 10.40166225124491\n",
      "--------------------------------\n",
      "epoch 57\n"
     ]
    },
    {
     "data": {
      "application/vnd.jupyter.widget-view+json": {
       "model_id": "e759d0acf6bf4f59ab1e455f6542e155",
       "version_major": 2,
       "version_minor": 0
      },
      "text/plain": [
       "  0%|          | 0/20 [00:00<?, ?it/s]"
      ]
     },
     "metadata": {},
     "output_type": "display_data"
    },
    {
     "name": "stdout",
     "output_type": "stream",
     "text": [
      "train loss : 2.0134235500507054    train perplexity : 7.4889121753904173\n",
      "epoch 57 -- train loss : 2.2459106794538872    train perplexity : 9.623114450539083\n",
      "--------------------------------\n",
      "epoch 58\n"
     ]
    },
    {
     "data": {
      "application/vnd.jupyter.widget-view+json": {
       "model_id": "73219c8b60754e11a228e7679610ef61",
       "version_major": 2,
       "version_minor": 0
      },
      "text/plain": [
       "  0%|          | 0/20 [00:00<?, ?it/s]"
      ]
     },
     "metadata": {},
     "output_type": "display_data"
    },
    {
     "name": "stdout",
     "output_type": "stream",
     "text": [
      "train loss : 2.1137642863629167    train perplexity : 8.2793485383858955\n",
      "epoch 58 -- train loss : 2.1786826732158473    train perplexity : 8.930680909153564\n",
      "--------------------------------\n",
      "epoch 59\n"
     ]
    },
    {
     "data": {
      "application/vnd.jupyter.widget-view+json": {
       "model_id": "dc53ec7249b249ada7a7962bccb3af47",
       "version_major": 2,
       "version_minor": 0
      },
      "text/plain": [
       "  0%|          | 0/20 [00:00<?, ?it/s]"
      ]
     },
     "metadata": {},
     "output_type": "display_data"
    },
    {
     "name": "stdout",
     "output_type": "stream",
     "text": [
      "train loss : 2.384857297302895    train perplexity : 10.8575131579522435\n",
      "epoch 59 -- train loss : 2.1282721734383743    train perplexity : 8.498503640397761\n",
      "--------------------------------\n",
      "epoch 60\n"
     ]
    },
    {
     "data": {
      "application/vnd.jupyter.widget-view+json": {
       "model_id": "2b79e2c6e4744d40adec9474d3b734cd",
       "version_major": 2,
       "version_minor": 0
      },
      "text/plain": [
       "  0%|          | 0/20 [00:00<?, ?it/s]"
      ]
     },
     "metadata": {},
     "output_type": "display_data"
    },
    {
     "name": "stdout",
     "output_type": "stream",
     "text": [
      "train loss : 1.9462630305696775    train perplexity : 7.0024706064905923\n",
      "epoch 60 -- train loss : 2.0779992345597207    train perplexity : 8.110322921598467\n",
      "--------------------------------\n",
      "epoch 61\n"
     ]
    },
    {
     "data": {
      "application/vnd.jupyter.widget-view+json": {
       "model_id": "36d0f2b62ae141b786163937b57f9a39",
       "version_major": 2,
       "version_minor": 0
      },
      "text/plain": [
       "  0%|          | 0/20 [00:00<?, ?it/s]"
      ]
     },
     "metadata": {},
     "output_type": "display_data"
    },
    {
     "name": "stdout",
     "output_type": "stream",
     "text": [
      "train loss : 1.9495382868951874    train perplexity : 7.0254430924926765\n",
      "epoch 61 -- train loss : 1.9937708778974355    train perplexity : 7.4466828570290975\n",
      "--------------------------------\n",
      "epoch 62\n"
     ]
    },
    {
     "data": {
      "application/vnd.jupyter.widget-view+json": {
       "model_id": "937851d1d08048af9e487fcf61076e9e",
       "version_major": 2,
       "version_minor": 0
      },
      "text/plain": [
       "  0%|          | 0/20 [00:00<?, ?it/s]"
      ]
     },
     "metadata": {},
     "output_type": "display_data"
    },
    {
     "name": "stdout",
     "output_type": "stream",
     "text": [
      "train loss : 2.01983886071321    train perplexity : 7.53711031122284628\n",
      "epoch 62 -- train loss : 1.9458213097147712    train perplexity : 7.072103657749715\n",
      "--------------------------------\n",
      "epoch 63\n"
     ]
    },
    {
     "data": {
      "application/vnd.jupyter.widget-view+json": {
       "model_id": "6269b836b89f4438956cf94e27b32f4a",
       "version_major": 2,
       "version_minor": 0
      },
      "text/plain": [
       "  0%|          | 0/20 [00:00<?, ?it/s]"
      ]
     },
     "metadata": {},
     "output_type": "display_data"
    },
    {
     "name": "stdout",
     "output_type": "stream",
     "text": [
      "train loss : 1.8220146890276783    train perplexity : 6.1843053594988955\n",
      "epoch 63 -- train loss : 1.8647135387162608    train perplexity : 6.49282168135985\n",
      "--------------------------------\n",
      "epoch 64\n"
     ]
    },
    {
     "data": {
      "application/vnd.jupyter.widget-view+json": {
       "model_id": "423ab68c709744288e38e34d362edf62",
       "version_major": 2,
       "version_minor": 0
      },
      "text/plain": [
       "  0%|          | 0/20 [00:00<?, ?it/s]"
      ]
     },
     "metadata": {},
     "output_type": "display_data"
    },
    {
     "name": "stdout",
     "output_type": "stream",
     "text": [
      "train loss : 1.719357447194855    train perplexity : 5.5809412624526418\n",
      "epoch 64 -- train loss : 1.859016574320456    train perplexity : 6.549016781379637\n",
      "--------------------------------\n",
      "epoch 65\n"
     ]
    },
    {
     "data": {
      "application/vnd.jupyter.widget-view+json": {
       "model_id": "356fc5f7db3144538e66e3343c4d5bdb",
       "version_major": 2,
       "version_minor": 0
      },
      "text/plain": [
       "  0%|          | 0/20 [00:00<?, ?it/s]"
      ]
     },
     "metadata": {},
     "output_type": "display_data"
    },
    {
     "name": "stdout",
     "output_type": "stream",
     "text": [
      "train loss : 1.6278749085840227    train perplexity : 5.0930400346085165\n",
      "epoch 65 -- train loss : 1.8446004146567925    train perplexity : 6.452497689749793\n",
      "--------------------------------\n",
      "epoch 66\n"
     ]
    },
    {
     "data": {
      "application/vnd.jupyter.widget-view+json": {
       "model_id": "8b1e40517c4149a582928fc6a24a6bf5",
       "version_major": 2,
       "version_minor": 0
      },
      "text/plain": [
       "  0%|          | 0/20 [00:00<?, ?it/s]"
      ]
     },
     "metadata": {},
     "output_type": "display_data"
    },
    {
     "name": "stdout",
     "output_type": "stream",
     "text": [
      "train loss : 1.475097492008004    train perplexity : 4.3714619347576679\n",
      "epoch 66 -- train loss : 1.7848714938026127    train perplexity : 6.050617991548589\n",
      "--------------------------------\n",
      "epoch 67\n"
     ]
    },
    {
     "data": {
      "application/vnd.jupyter.widget-view+json": {
       "model_id": "a1af85fd5f8345569f23a97c15b45317",
       "version_major": 2,
       "version_minor": 0
      },
      "text/plain": [
       "  0%|          | 0/20 [00:00<?, ?it/s]"
      ]
     },
     "metadata": {},
     "output_type": "display_data"
    },
    {
     "name": "stdout",
     "output_type": "stream",
     "text": [
      "train loss : 1.7364289521952574    train perplexity : 5.6770342210969986\n",
      "epoch 67 -- train loss : 1.6825197119217576    train perplexity : 5.449136044449172\n",
      "--------------------------------\n",
      "epoch 68\n"
     ]
    },
    {
     "data": {
      "application/vnd.jupyter.widget-view+json": {
       "model_id": "6aff9881c4f24d7b92cc25b74ea7595f",
       "version_major": 2,
       "version_minor": 0
      },
      "text/plain": [
       "  0%|          | 0/20 [00:00<?, ?it/s]"
      ]
     },
     "metadata": {},
     "output_type": "display_data"
    },
    {
     "name": "stdout",
     "output_type": "stream",
     "text": [
      "train loss : 1.7439493459667816    train perplexity : 5.7198886931724162\n",
      "epoch 68 -- train loss : 1.6240862344340379    train perplexity : 5.129402215556458\n",
      "--------------------------------\n",
      "epoch 69\n"
     ]
    },
    {
     "data": {
      "application/vnd.jupyter.widget-view+json": {
       "model_id": "2ea9ec1cf6b84b90bfffc39a34a61c22",
       "version_major": 2,
       "version_minor": 0
      },
      "text/plain": [
       "  0%|          | 0/20 [00:00<?, ?it/s]"
      ]
     },
     "metadata": {},
     "output_type": "display_data"
    },
    {
     "name": "stdout",
     "output_type": "stream",
     "text": [
      "train loss : 1.6445567627368747    train perplexity : 5.1787139991506566\n",
      "epoch 69 -- train loss : 1.5965952690200969    train perplexity : 4.986769058129632\n",
      "--------------------------------\n",
      "epoch 70\n"
     ]
    },
    {
     "data": {
      "application/vnd.jupyter.widget-view+json": {
       "model_id": "477a00b42e894a379c43edea2a881e9d",
       "version_major": 2,
       "version_minor": 0
      },
      "text/plain": [
       "  0%|          | 0/20 [00:00<?, ?it/s]"
      ]
     },
     "metadata": {},
     "output_type": "display_data"
    },
    {
     "name": "stdout",
     "output_type": "stream",
     "text": [
      "train loss : 1.4659940111442487    train perplexity : 4.3318470051495975\n",
      "epoch 70 -- train loss : 1.5289877122960949    train perplexity : 4.655597767565118\n",
      "--------------------------------\n",
      "epoch 71\n"
     ]
    },
    {
     "data": {
      "application/vnd.jupyter.widget-view+json": {
       "model_id": "e758e1b97f37468caee5794ec520aa9d",
       "version_major": 2,
       "version_minor": 0
      },
      "text/plain": [
       "  0%|          | 0/20 [00:00<?, ?it/s]"
      ]
     },
     "metadata": {},
     "output_type": "display_data"
    },
    {
     "name": "stdout",
     "output_type": "stream",
     "text": [
      "train loss : 1.552313825339823    train perplexity : 4.72238432352563676\n",
      "epoch 71 -- train loss : 1.4880384542872567    train perplexity : 4.4792709912387005\n",
      "--------------------------------\n",
      "epoch 72\n"
     ]
    },
    {
     "data": {
      "application/vnd.jupyter.widget-view+json": {
       "model_id": "0a5aacf9771f41cda684d64546df7500",
       "version_major": 2,
       "version_minor": 0
      },
      "text/plain": [
       "  0%|          | 0/20 [00:00<?, ?it/s]"
      ]
     },
     "metadata": {},
     "output_type": "display_data"
    },
    {
     "name": "stdout",
     "output_type": "stream",
     "text": [
      "train loss : 1.43325557617887    train perplexity : 4.19232543407068413\n",
      "epoch 72 -- train loss : 1.403548855405427    train perplexity : 4.099975220248727\n",
      "--------------------------------\n",
      "epoch 73\n"
     ]
    },
    {
     "data": {
      "application/vnd.jupyter.widget-view+json": {
       "model_id": "bba5d61c5dee4a66865937bcc507bbcd",
       "version_major": 2,
       "version_minor": 0
      },
      "text/plain": [
       "  0%|          | 0/20 [00:00<?, ?it/s]"
      ]
     },
     "metadata": {},
     "output_type": "display_data"
    },
    {
     "name": "stdout",
     "output_type": "stream",
     "text": [
      "train loss : 1.1477384293029704    train perplexity : 3.1510585036723047\n",
      "epoch 73 -- train loss : 1.3734489547599125    train perplexity : 3.9819821196253944\n",
      "--------------------------------\n",
      "epoch 74\n"
     ]
    },
    {
     "data": {
      "application/vnd.jupyter.widget-view+json": {
       "model_id": "8757ff4e32ff4ad4a6a3584e6a86dfea",
       "version_major": 2,
       "version_minor": 0
      },
      "text/plain": [
       "  0%|          | 0/20 [00:00<?, ?it/s]"
      ]
     },
     "metadata": {},
     "output_type": "display_data"
    },
    {
     "name": "stdout",
     "output_type": "stream",
     "text": [
      "train loss : 1.0496125926991724    train perplexity : 2.8565442575735687\n",
      "epoch 74 -- train loss : 1.3023207351760546    train perplexity : 3.7222708290949535\n",
      "--------------------------------\n",
      "epoch 75\n"
     ]
    },
    {
     "data": {
      "application/vnd.jupyter.widget-view+json": {
       "model_id": "239d4c14b1564105bb3d3857bac84d70",
       "version_major": 2,
       "version_minor": 0
      },
      "text/plain": [
       "  0%|          | 0/20 [00:00<?, ?it/s]"
      ]
     },
     "metadata": {},
     "output_type": "display_data"
    },
    {
     "name": "stdout",
     "output_type": "stream",
     "text": [
      "train loss : 1.1517488076558846    train perplexity : 3.1637208138406985\n",
      "epoch 75 -- train loss : 1.319885156338897    train perplexity : 3.7930453168466194\n",
      "--------------------------------\n",
      "epoch 76\n"
     ]
    },
    {
     "data": {
      "application/vnd.jupyter.widget-view+json": {
       "model_id": "5a7994350a1c438c8c1a15011cef3230",
       "version_major": 2,
       "version_minor": 0
      },
      "text/plain": [
       "  0%|          | 0/20 [00:00<?, ?it/s]"
      ]
     },
     "metadata": {},
     "output_type": "display_data"
    },
    {
     "name": "stdout",
     "output_type": "stream",
     "text": [
      "train loss : 1.470840636225401    train perplexity : 4.35289280284120467\n",
      "epoch 76 -- train loss : 1.2677210495492308    train perplexity : 3.589114564533682\n",
      "--------------------------------\n",
      "epoch 77\n"
     ]
    },
    {
     "data": {
      "application/vnd.jupyter.widget-view+json": {
       "model_id": "486991b7c74a4e71b50b4803f0dd2e11",
       "version_major": 2,
       "version_minor": 0
      },
      "text/plain": [
       "  0%|          | 0/20 [00:00<?, ?it/s]"
      ]
     },
     "metadata": {},
     "output_type": "display_data"
    },
    {
     "name": "stdout",
     "output_type": "stream",
     "text": [
      "train loss : 1.3410371319821632    train perplexity : 3.8230064122005114\n",
      "epoch 77 -- train loss : 1.223235597881666    train perplexity : 3.425755420786849\n",
      "--------------------------------\n",
      "epoch 78\n"
     ]
    },
    {
     "data": {
      "application/vnd.jupyter.widget-view+json": {
       "model_id": "0cd000dfd7ec4a258081e1110c0458b0",
       "version_major": 2,
       "version_minor": 0
      },
      "text/plain": [
       "  0%|          | 0/20 [00:00<?, ?it/s]"
      ]
     },
     "metadata": {},
     "output_type": "display_data"
    },
    {
     "name": "stdout",
     "output_type": "stream",
     "text": [
      "train loss : 1.265203826680058    train perplexity : 3.54381498654297443\n",
      "epoch 78 -- train loss : 1.1573327614503834    train perplexity : 3.2070678833774067\n",
      "--------------------------------\n",
      "epoch 79\n"
     ]
    },
    {
     "data": {
      "application/vnd.jupyter.widget-view+json": {
       "model_id": "e54894555f5b445bb73e690384949483",
       "version_major": 2,
       "version_minor": 0
      },
      "text/plain": [
       "  0%|          | 0/20 [00:00<?, ?it/s]"
      ]
     },
     "metadata": {},
     "output_type": "display_data"
    },
    {
     "name": "stdout",
     "output_type": "stream",
     "text": [
      "train loss : 1.2449947621457724    train perplexity : 3.4729166086582455\n",
      "epoch 79 -- train loss : 1.1150483917079534    train perplexity : 3.064811584317009\n",
      "--------------------------------\n",
      "epoch 80\n"
     ]
    },
    {
     "data": {
      "application/vnd.jupyter.widget-view+json": {
       "model_id": "0f380240ae2340b49df9cf0e56d84c40",
       "version_major": 2,
       "version_minor": 0
      },
      "text/plain": [
       "  0%|          | 0/20 [00:00<?, ?it/s]"
      ]
     },
     "metadata": {},
     "output_type": "display_data"
    },
    {
     "name": "stdout",
     "output_type": "stream",
     "text": [
      "train loss : 0.9717436131914338    train perplexity : 2.6425480263655277\n",
      "epoch 80 -- train loss : 1.0953739599915047    train perplexity : 3.0055687954782337\n",
      "--------------------------------\n",
      "epoch 81\n"
     ]
    },
    {
     "data": {
      "application/vnd.jupyter.widget-view+json": {
       "model_id": "af4736ff09524d84bc2fed04bec5f553",
       "version_major": 2,
       "version_minor": 0
      },
      "text/plain": [
       "  0%|          | 0/20 [00:00<?, ?it/s]"
      ]
     },
     "metadata": {},
     "output_type": "display_data"
    },
    {
     "name": "stdout",
     "output_type": "stream",
     "text": [
      "train loss : 1.0472146407054215    train perplexity : 2.8497026078280956\n",
      "epoch 81 -- train loss : 1.0848920649090636    train perplexity : 2.977315644921025\n",
      "--------------------------------\n",
      "epoch 82\n"
     ]
    },
    {
     "data": {
      "application/vnd.jupyter.widget-view+json": {
       "model_id": "ffe63761db4d4b11952082fc65b9970f",
       "version_major": 2,
       "version_minor": 0
      },
      "text/plain": [
       "  0%|          | 0/20 [00:00<?, ?it/s]"
      ]
     },
     "metadata": {},
     "output_type": "display_data"
    },
    {
     "name": "stdout",
     "output_type": "stream",
     "text": [
      "train loss : 1.1939427204224513    train perplexity : 3.3000668321117934\n",
      "epoch 82 -- train loss : 1.030971391972167    train perplexity : 2.817185094564694\n",
      "--------------------------------\n",
      "epoch 83\n"
     ]
    },
    {
     "data": {
      "application/vnd.jupyter.widget-view+json": {
       "model_id": "9416f2a842204b0b9e85bd203acbda29",
       "version_major": 2,
       "version_minor": 0
      },
      "text/plain": [
       "  0%|          | 0/20 [00:00<?, ?it/s]"
      ]
     },
     "metadata": {},
     "output_type": "display_data"
    },
    {
     "name": "stdout",
     "output_type": "stream",
     "text": [
      "train loss : 1.0544418574913619    train perplexity : 2.8703726297442377\n",
      "epoch 83 -- train loss : 0.9305643001900271    train perplexity : 2.543258757728373\n",
      "--------------------------------\n",
      "epoch 84\n"
     ]
    },
    {
     "data": {
      "application/vnd.jupyter.widget-view+json": {
       "model_id": "0b5db114422942bf9dbd13e7942a8d36",
       "version_major": 2,
       "version_minor": 0
      },
      "text/plain": [
       "  0%|          | 0/20 [00:00<?, ?it/s]"
      ]
     },
     "metadata": {},
     "output_type": "display_data"
    },
    {
     "name": "stdout",
     "output_type": "stream",
     "text": [
      "train loss : 0.8528068698911162    train perplexity : 2.3462231613353137\n",
      "epoch 84 -- train loss : 0.9067888150440365    train perplexity : 2.4856168068020454\n",
      "--------------------------------\n",
      "epoch 85\n"
     ]
    },
    {
     "data": {
      "application/vnd.jupyter.widget-view+json": {
       "model_id": "55c526c9bf534e3da238422ebd1cb009",
       "version_major": 2,
       "version_minor": 0
      },
      "text/plain": [
       "  0%|          | 0/20 [00:00<?, ?it/s]"
      ]
     },
     "metadata": {},
     "output_type": "display_data"
    },
    {
     "name": "stdout",
     "output_type": "stream",
     "text": [
      "train loss : 1.0328345273694222    train perplexity : 2.8090167957559222\n",
      "epoch 85 -- train loss : 0.8907781697943247    train perplexity : 2.452396186050491\n",
      "--------------------------------\n",
      "epoch 86\n"
     ]
    },
    {
     "data": {
      "application/vnd.jupyter.widget-view+json": {
       "model_id": "4d8b553ea160472bb7fb043ae0a78062",
       "version_major": 2,
       "version_minor": 0
      },
      "text/plain": [
       "  0%|          | 0/20 [00:00<?, ?it/s]"
      ]
     },
     "metadata": {},
     "output_type": "display_data"
    },
    {
     "name": "stdout",
     "output_type": "stream",
     "text": [
      "train loss : 0.6896442687332835    train perplexity : 1.9930064324231138\n",
      "epoch 86 -- train loss : 0.9013126820617613    train perplexity : 2.47515939530783\n",
      "--------------------------------\n",
      "epoch 87\n"
     ]
    },
    {
     "data": {
      "application/vnd.jupyter.widget-view+json": {
       "model_id": "e32869d7e5dc4574919c47b8f0167fc7",
       "version_major": 2,
       "version_minor": 0
      },
      "text/plain": [
       "  0%|          | 0/20 [00:00<?, ?it/s]"
      ]
     },
     "metadata": {},
     "output_type": "display_data"
    },
    {
     "name": "stdout",
     "output_type": "stream",
     "text": [
      "train loss : 0.8797906523997705    train perplexity : 2.4103950431761494\n",
      "epoch 87 -- train loss : 0.8532594115278554    train perplexity : 2.354698170883408\n",
      "--------------------------------\n",
      "epoch 88\n"
     ]
    },
    {
     "data": {
      "application/vnd.jupyter.widget-view+json": {
       "model_id": "f62f134e68164c3faa01953af324a539",
       "version_major": 2,
       "version_minor": 0
      },
      "text/plain": [
       "  0%|          | 0/20 [00:00<?, ?it/s]"
      ]
     },
     "metadata": {},
     "output_type": "display_data"
    },
    {
     "name": "stdout",
     "output_type": "stream",
     "text": [
      "train loss : 0.9461269074907405    train perplexity : 2.5757143355049766\n",
      "epoch 88 -- train loss : 0.8309293484210609    train perplexity : 2.3021915547015874\n",
      "--------------------------------\n",
      "epoch 89\n"
     ]
    },
    {
     "data": {
      "application/vnd.jupyter.widget-view+json": {
       "model_id": "84e9bf02a3144ad880b5fe57462a6504",
       "version_major": 2,
       "version_minor": 0
      },
      "text/plain": [
       "  0%|          | 0/20 [00:00<?, ?it/s]"
      ]
     },
     "metadata": {},
     "output_type": "display_data"
    },
    {
     "name": "stdout",
     "output_type": "stream",
     "text": [
      "train loss : 0.8700085240621885    train perplexity : 2.3869311997875466\n",
      "epoch 89 -- train loss : 0.8227764352691911    train perplexity : 2.286810132257358\n",
      "--------------------------------\n",
      "epoch 90\n"
     ]
    },
    {
     "data": {
      "application/vnd.jupyter.widget-view+json": {
       "model_id": "0e3315ee237144d39cb79352fdec68ed",
       "version_major": 2,
       "version_minor": 0
      },
      "text/plain": [
       "  0%|          | 0/20 [00:00<?, ?it/s]"
      ]
     },
     "metadata": {},
     "output_type": "display_data"
    },
    {
     "name": "stdout",
     "output_type": "stream",
     "text": [
      "train loss : 0.7192010149341235    train perplexity : 2.0527924047667267\n",
      "epoch 90 -- train loss : 0.7638980250573101    train perplexity : 2.1528968716915693\n",
      "--------------------------------\n",
      "epoch 91\n"
     ]
    },
    {
     "data": {
      "application/vnd.jupyter.widget-view+json": {
       "model_id": "ebc139763c164e998b5be006267644df",
       "version_major": 2,
       "version_minor": 0
      },
      "text/plain": [
       "  0%|          | 0/20 [00:00<?, ?it/s]"
      ]
     },
     "metadata": {},
     "output_type": "display_data"
    },
    {
     "name": "stdout",
     "output_type": "stream",
     "text": [
      "train loss : 0.6835291545780785    train perplexity : 1.9808561585954088\n",
      "epoch 91 -- train loss : 0.7417766199865623    train perplexity : 2.104337156533913\n",
      "--------------------------------\n",
      "epoch 92\n"
     ]
    },
    {
     "data": {
      "application/vnd.jupyter.widget-view+json": {
       "model_id": "65fcef28f19341a09e52f0dafb304c82",
       "version_major": 2,
       "version_minor": 0
      },
      "text/plain": [
       "  0%|          | 0/20 [00:00<?, ?it/s]"
      ]
     },
     "metadata": {},
     "output_type": "display_data"
    },
    {
     "name": "stdout",
     "output_type": "stream",
     "text": [
      "train loss : 0.7320581691795516    train perplexity : 2.0793558727261154\n",
      "epoch 92 -- train loss : 0.6991071513442749    train perplexity : 2.02410244063382\n",
      "--------------------------------\n",
      "epoch 93\n"
     ]
    },
    {
     "data": {
      "application/vnd.jupyter.widget-view+json": {
       "model_id": "83b1078b747545909cb427c564f7ffe3",
       "version_major": 2,
       "version_minor": 0
      },
      "text/plain": [
       "  0%|          | 0/20 [00:00<?, ?it/s]"
      ]
     },
     "metadata": {},
     "output_type": "display_data"
    },
    {
     "name": "stdout",
     "output_type": "stream",
     "text": [
      "train loss : 0.7484946967937176    train perplexity : 2.1138156869920534\n",
      "epoch 93 -- train loss : 0.6706624524519674    train perplexity : 1.9611971642233745\n",
      "--------------------------------\n",
      "epoch 94\n"
     ]
    },
    {
     "data": {
      "application/vnd.jupyter.widget-view+json": {
       "model_id": "976134850fbf49db80b7e8daa2c4c85c",
       "version_major": 2,
       "version_minor": 0
      },
      "text/plain": [
       "  0%|          | 0/20 [00:00<?, ?it/s]"
      ]
     },
     "metadata": {},
     "output_type": "display_data"
    },
    {
     "name": "stdout",
     "output_type": "stream",
     "text": [
      "train loss : 0.6172126075603301    train perplexity : 1.8537536946948725\n",
      "epoch 94 -- train loss : 0.6603194928929289    train perplexity : 1.9394881031912836\n",
      "--------------------------------\n",
      "epoch 95\n"
     ]
    },
    {
     "data": {
      "application/vnd.jupyter.widget-view+json": {
       "model_id": "4db2cd97bc9942fe80185a2d0b4cf316",
       "version_major": 2,
       "version_minor": 0
      },
      "text/plain": [
       "  0%|          | 0/20 [00:00<?, ?it/s]"
      ]
     },
     "metadata": {},
     "output_type": "display_data"
    },
    {
     "name": "stdout",
     "output_type": "stream",
     "text": [
      "train loss : 0.5701783552817529    train perplexity : 1.7685824593284039\n",
      "epoch 95 -- train loss : 0.6773188522900854    train perplexity : 1.9767296586412673\n",
      "--------------------------------\n",
      "epoch 96\n"
     ]
    },
    {
     "data": {
      "application/vnd.jupyter.widget-view+json": {
       "model_id": "80aa99bf37134a9fb05dc67d145494ff",
       "version_major": 2,
       "version_minor": 0
      },
      "text/plain": [
       "  0%|          | 0/20 [00:00<?, ?it/s]"
      ]
     },
     "metadata": {},
     "output_type": "display_data"
    },
    {
     "name": "stdout",
     "output_type": "stream",
     "text": [
      "train loss : 0.5750199047483079    train perplexity : 1.7771659006019378\n",
      "epoch 96 -- train loss : 0.6242288426854469    train perplexity : 1.8705234585548223\n",
      "--------------------------------\n",
      "epoch 97\n"
     ]
    },
    {
     "data": {
      "application/vnd.jupyter.widget-view+json": {
       "model_id": "120c389c5302462d9a49da9e26cbe806",
       "version_major": 2,
       "version_minor": 0
      },
      "text/plain": [
       "  0%|          | 0/20 [00:00<?, ?it/s]"
      ]
     },
     "metadata": {},
     "output_type": "display_data"
    },
    {
     "name": "stdout",
     "output_type": "stream",
     "text": [
      "train loss : 0.6088653162528428    train perplexity : 1.8383442755220347\n",
      "epoch 97 -- train loss : 0.5890387741281335    train perplexity : 1.806737772270616\n",
      "--------------------------------\n",
      "epoch 98\n"
     ]
    },
    {
     "data": {
      "application/vnd.jupyter.widget-view+json": {
       "model_id": "bf9af657a785462d874c77690da41510",
       "version_major": 2,
       "version_minor": 0
      },
      "text/plain": [
       "  0%|          | 0/20 [00:00<?, ?it/s]"
      ]
     },
     "metadata": {},
     "output_type": "display_data"
    },
    {
     "name": "stdout",
     "output_type": "stream",
     "text": [
      "train loss : 0.6220895119470005    train perplexity : 1.8628163551221986\n",
      "epoch 98 -- train loss : 0.5890419313551272    train perplexity : 1.8041811586830319\n",
      "--------------------------------\n",
      "epoch 99\n"
     ]
    },
    {
     "data": {
      "application/vnd.jupyter.widget-view+json": {
       "model_id": "2cc234f76e5a43d2a7511056d999fa10",
       "version_major": 2,
       "version_minor": 0
      },
      "text/plain": [
       "  0%|          | 0/20 [00:00<?, ?it/s]"
      ]
     },
     "metadata": {},
     "output_type": "display_data"
    },
    {
     "name": "stdout",
     "output_type": "stream",
     "text": [
      "train loss : 0.6405315446924346    train perplexity : 1.89748921161375184\n",
      "epoch 99 -- train loss : 0.5424945302329359    train perplexity : 1.723326451213522\n",
      "--------------------------------\n",
      "epoch 100\n"
     ]
    },
    {
     "data": {
      "application/vnd.jupyter.widget-view+json": {
       "model_id": "ac7936038adb43a69d009773ef057853",
       "version_major": 2,
       "version_minor": 0
      },
      "text/plain": [
       "  0%|          | 0/20 [00:00<?, ?it/s]"
      ]
     },
     "metadata": {},
     "output_type": "display_data"
    },
    {
     "name": "stdout",
     "output_type": "stream",
     "text": [
      "train loss : 0.5099852130890631    train perplexity : 1.66526657061536215\n",
      "epoch 100 -- train loss : 0.5268592277930215    train perplexity : 1.696617739430375\n",
      "--------------------------------\n"
     ]
    }
   ],
   "source": [
    "trainer.train(dataloader)"
   ]
  },
  {
   "cell_type": "code",
   "execution_count": 6,
   "metadata": {},
   "outputs": [
    {
     "data": {
      "image/png": "[encoded data removed]",
      "text/plain": [
       "<Figure size 640x480 with 1 Axes>"
      ]
     },
     "metadata": {},
     "output_type": "display_data"
    }
   ],
   "source": [
    "trainer.show_perplexity_graph()"
   ]
  },
  {
   "cell_type": "code",
   "execution_count": null,
   "metadata": {},
   "outputs": [
    {
     "data": {
      "image/png": "[encoded data removed]",
      "text/plain": [
       "<Figure size 640x480 with 1 Axes>"
      ]
     },
     "metadata": {},
     "output_type": "display_data"
    }
   ],
   "source": [
    "trainer.show_perplexity_graph()"
   ]
  },
  {
   "cell_type": "code",
   "execution_count": null,
   "metadata": {},
   "outputs": [],
   "source": []
  }
 ],
 "metadata": {
  "kernelspec": {
   "display_name": "simpleDl",
   "language": "python",
   "name": "python3"
  },
  "language_info": {
   "codemirror_mode": {
    "name": "ipython",
    "version": 3
   },
   "file_extension": ".py",
   "mimetype": "text/x-python",
   "name": "python",
   "nbconvert_exporter": "python",
   "pygments_lexer": "ipython3",
   "version": "3.8.16 (default, Jan 17 2023, 23:13:24) \n[GCC 11.2.0]"
  },
  "orig_nbformat": 4,
  "vscode": {
   "interpreter": {
    "hash": "bddf88192783f0bfbc44a426fbcb5ddf97b76cc71ee158661476b36168cd5fdc"
   }
  }
 },
 "nbformat": 4,
 "nbformat_minor": 2
}
