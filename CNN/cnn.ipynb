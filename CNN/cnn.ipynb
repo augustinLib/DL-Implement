{
 "cells": [
  {
   "cell_type": "code",
   "execution_count": 1,
   "metadata": {},
   "outputs": [],
   "source": [
    "import os\n",
    "import sys\n",
    "sys.path.append(os.pardir)\n",
    "from dataset.mnist import *\n",
    "\n",
    "import numpy as np\n",
    "import matplotlib.pyplot as plt\n",
    "from simpleDL.model import *\n",
    "from simpleDL.function_class import *\n",
    "from simpleDL.function import *\n",
    "from simpleDL.data import *\n",
    "from simpleDL.optimizer import *\n",
    "from simpleDL.trainer import *"
   ]
  },
  {
   "cell_type": "code",
   "execution_count": 2,
   "metadata": {},
   "outputs": [],
   "source": [
    "(x_train, y_train), (x_test, y_test) = load_mnist(flatten=False)"
   ]
  },
  {
   "cell_type": "code",
   "execution_count": 3,
   "metadata": {},
   "outputs": [
    {
     "data": {
      "text/plain": [
       "(1, 28, 28)"
      ]
     },
     "execution_count": 3,
     "metadata": {},
     "output_type": "execute_result"
    }
   ],
   "source": [
    "x_train[1].shape"
   ]
  },
  {
   "cell_type": "code",
   "execution_count": 4,
   "metadata": {},
   "outputs": [],
   "source": [
    "network = Model(\n",
    "    ConvLayer(input_channel = 1, output_channel = 30, kernel_size = 5, stride = 1, padding=0),\n",
    "    ReLU(),\n",
    "    MaxPoolingLayer(kernel_size=2, stride=2),\n",
    "    DenseLayer(4320, 100),\n",
    "    ReLU(),\n",
    "    DenseLayer(100, 10)\n",
    ")"
   ]
  },
  {
   "cell_type": "code",
   "execution_count": 5,
   "metadata": {},
   "outputs": [
    {
     "name": "stdout",
     "output_type": "stream",
     "text": [
      "0. ConvLayer1 : ConvLayer (30, 1, 5, 5) \n",
      "1. Function1 : Function\n",
      "2. MaxPoolingLayer1 : MaxPoolingLayer\n",
      "3. DenseLayer1 : DenseLayer (4320, 100) \n",
      "4. Function2 : Function\n",
      "5. DenseLayer2 : DenseLayer (100, 10) \n",
      "\n"
     ]
    }
   ],
   "source": [
    "print(network)"
   ]
  },
  {
   "cell_type": "code",
   "execution_count": 6,
   "metadata": {},
   "outputs": [],
   "source": [
    "epochs = 3\n",
    "train_size = x_train.shape[0]\n",
    "batch_size = 100\n",
    "learning_rate = 0.1\n",
    "\n",
    "train_loss_list = []\n",
    "train_acc_list = []\n",
    "test_acc_list = []"
   ]
  },
  {
   "cell_type": "code",
   "execution_count": 7,
   "metadata": {},
   "outputs": [],
   "source": [
    "iter_per_epoch = max(train_size / batch_size, 1)\n",
    "critic = CrossEntropyLoss()"
   ]
  },
  {
   "cell_type": "code",
   "execution_count": 8,
   "metadata": {},
   "outputs": [],
   "source": [
    "train_data = DataLoader(x_train, y_train, batch_size=batch_size)\n",
    "valid_data = DataLoader(x_test, y_test, batch_size=batch_size)\n",
    "optim = Adam()"
   ]
  },
  {
   "cell_type": "code",
   "execution_count": 9,
   "metadata": {},
   "outputs": [],
   "source": [
    "mnist_trainer = ClassificationTrainer(network,\n",
    "                                    critic,\n",
    "                                    optim,\n",
    "                                    epochs,\n",
    "                                    init_lr = 0.001\n",
    "                                    )"
   ]
  },
  {
   "cell_type": "code",
   "execution_count": 10,
   "metadata": {},
   "outputs": [
    {
     "name": "stdout",
     "output_type": "stream",
     "text": [
      "epoch 1\n"
     ]
    },
    {
     "data": {
      "application/vnd.jupyter.widget-view+json": {
       "model_id": "87be2b68625742398dc95d04d7b43d54",
       "version_major": 2,
       "version_minor": 0
      },
      "text/plain": [
       "  0%|          | 0/600 [00:00<?, ?it/s]"
      ]
     },
     "metadata": {},
     "output_type": "display_data"
    },
    {
     "name": "stdout",
     "output_type": "stream",
     "text": [
      "train loss : 0.18132038200059072    train accuarcy : 95.0266666666666745\n",
      "epoch 1 -- train loss : 0.99639462014099    train accuarcy : 95.02666666666667\n"
     ]
    },
    {
     "data": {
      "application/vnd.jupyter.widget-view+json": {
       "model_id": "f4497283012444019c1f9813da756c4b",
       "version_major": 2,
       "version_minor": 0
      },
      "text/plain": [
       "  0%|          | 0/100 [00:00<?, ?it/s]"
      ]
     },
     "metadata": {},
     "output_type": "display_data"
    },
    {
     "name": "stdout",
     "output_type": "stream",
     "text": [
      "valid loss : 0.05030393057758402    valid accuarcy : 97.8999999999999937\n",
      "epoch 1 -- valid loss : 0.06543094238040405    valid accuarcy : 97.89999999999999\n",
      "--------------------------------\n",
      "epoch 2\n"
     ]
    },
    {
     "data": {
      "application/vnd.jupyter.widget-view+json": {
       "model_id": "a229ea3579c04802b589ef25d44fa95b",
       "version_major": 2,
       "version_minor": 0
      },
      "text/plain": [
       "  0%|          | 0/600 [00:00<?, ?it/s]"
      ]
     },
     "metadata": {},
     "output_type": "display_data"
    },
    {
     "name": "stdout",
     "output_type": "stream",
     "text": [
      "train loss : 0.17433796342261984    train accuarcy : 98.36666666666667868\n",
      "epoch 2 -- train loss : 0.32604982345519723    train accuarcy : 98.36666666666667\n"
     ]
    },
    {
     "data": {
      "application/vnd.jupyter.widget-view+json": {
       "model_id": "758310a868c84575a8b08ba62f00c443",
       "version_major": 2,
       "version_minor": 0
      },
      "text/plain": [
       "  0%|          | 0/100 [00:00<?, ?it/s]"
      ]
     },
     "metadata": {},
     "output_type": "display_data"
    },
    {
     "name": "stdout",
     "output_type": "stream",
     "text": [
      "valid loss : 0.02069249835519695    valid accuarcy : 98.29191919191921916\n",
      "epoch 2 -- valid loss : 0.0514994352012082    valid accuarcy : 98.2\n",
      "--------------------------------\n",
      "epoch 3\n"
     ]
    },
    {
     "data": {
      "application/vnd.jupyter.widget-view+json": {
       "model_id": "9930ec40de9d42c6811062468a18422c",
       "version_major": 2,
       "version_minor": 0
      },
      "text/plain": [
       "  0%|          | 0/600 [00:00<?, ?it/s]"
      ]
     },
     "metadata": {},
     "output_type": "display_data"
    },
    {
     "name": "stdout",
     "output_type": "stream",
     "text": [
      "train loss : 0.1657620154744735    train accuarcy : 98.98833333333333738\n",
      "epoch 3 -- train loss : 0.20207337025302097    train accuarcy : 98.98833333333333\n"
     ]
    },
    {
     "data": {
      "application/vnd.jupyter.widget-view+json": {
       "model_id": "a5626e645284427da1724b8879390c24",
       "version_major": 2,
       "version_minor": 0
      },
      "text/plain": [
       "  0%|          | 0/100 [00:00<?, ?it/s]"
      ]
     },
     "metadata": {},
     "output_type": "display_data"
    },
    {
     "name": "stdout",
     "output_type": "stream",
     "text": [
      "valid loss : 0.009982954011595383    valid accuarcy : 98.5099999999999913\n",
      "epoch 3 -- valid loss : 0.04379462267928308    valid accuarcy : 98.50999999999999\n",
      "--------------------------------\n"
     ]
    }
   ],
   "source": [
    "mnist_trainer.train(train_data, valid_data)"
   ]
  },
  {
   "cell_type": "code",
   "execution_count": 11,
   "metadata": {},
   "outputs": [
    {
     "data": {
      "image/png": "[encoded data removed]",
      "text/plain": [
       "<Figure size 640x480 with 1 Axes>"
      ]
     },
     "metadata": {},
     "output_type": "display_data"
    }
   ],
   "source": [
    "mnist_trainer.show_error_graph()"
   ]
  },
  {
   "cell_type": "code",
   "execution_count": 12,
   "metadata": {},
   "outputs": [
    {
     "data": {
      "image/png": "[encoded data removed]",
      "text/plain": [
       "<Figure size 640x480 with 1 Axes>"
      ]
     },
     "metadata": {},
     "output_type": "display_data"
    }
   ],
   "source": [
    "mnist_trainer.show_accuracy_graph()"
   ]
  },
  {
   "cell_type": "code",
   "execution_count": null,
   "metadata": {},
   "outputs": [],
   "source": [
    "for epoch in range(10):\n",
    "    train_correct_count = 0\n",
    "    test_correct_count = 0\n",
    "    for x, y in train_data:\n",
    "        pred = network(x)\n",
    "        train_loss = critic(pred, y)\n",
    "        p = np.argmax(critic.pred, axis=1)\n",
    "        if y.ndim != 1:\n",
    "            y = np.argmax(y, axis=1)\n",
    "        train_loss_list.append(train_loss)\n",
    "        network._backward(critic)\n",
    "\n",
    "        grad = network.gradient()\n",
    "        \n",
    "        optim.update(network)\n",
    "\n",
    "        train_correct_count += np.sum(p==y)\n",
    "\n",
    "\n",
    "    for x, y in test_data:\n",
    "        pred = network(x)\n",
    "        softmax(pred)\n",
    "        p = np.argmax(pred, axis=1)\n",
    "        if y.ndim != 1:\n",
    "            y = np.argmax(y, axis=1)\n",
    "        test_correct_count += np.sum(p==y)\n",
    "\n",
    "\n",
    "    train_acc = float(train_correct_count)/len(x_train)\n",
    "    train_acc_list.append(train_acc)\n",
    "    test_acc = float(test_correct_count)/len(x_test)\n",
    "    test_acc_list.append(test_acc)\n",
    "    print(f\"train acc : {train_acc}\")\n",
    "    print(f\"test acc : {test_acc}\")"
   ]
  }
 ],
 "metadata": {
  "kernelspec": {
   "display_name": "base",
   "language": "python",
   "name": "python3"
  },
  "language_info": {
   "codemirror_mode": {
    "name": "ipython",
    "version": 3
   },
   "file_extension": ".py",
   "mimetype": "text/x-python",
   "name": "python",
   "nbconvert_exporter": "python",
   "pygments_lexer": "ipython3",
   "version": "3.9.10"
  },
  "orig_nbformat": 4,
  "vscode": {
   "interpreter": {
    "hash": "c6e4e9f98eb68ad3b7c296f83d20e6de614cb42e90992a65aa266555a3137d0d"
   }
  }
 },
 "nbformat": 4,
 "nbformat_minor": 2
}
